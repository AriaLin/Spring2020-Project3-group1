{
 "cells": [
  {
   "cell_type": "markdown",
   "metadata": {},
   "source": [
    "##  Hongshan LinBaseline GBM + Decision Tree +XGB + Ranodom Forest "
   ]
  },
  {
   "cell_type": "code",
   "execution_count": 1,
   "metadata": {
    "scrolled": true
   },
   "outputs": [
    {
     "name": "stderr",
     "output_type": "stream",
     "text": [
      "Using TensorFlow backend.\n"
     ]
    }
   ],
   "source": [
    "import os,sys\n",
    "import pandas as pd\n",
    "from sklearn.model_selection import train_test_split\n",
    "import scipy.io\n",
    "import numpy as np \n",
    "from scipy.spatial.distance import pdist\n",
    "import time \n",
    "import math\n",
    "from sklearn.metrics import accuracy_score\n",
    "from sklearn.model_selection import GridSearchCV\n",
    "import keras\n",
    "from keras.utils import to_categorical\n",
    "import matplotlib.pyplot as plt\n",
    "from tensorflow.keras.models import Sequential\n",
    "from sklearn import ensemble\n",
    "from sklearn.model_selection import train_test_split, cross_validate, StratifiedKFold\n",
    "from sklearn.metrics import accuracy_score, make_scorer\n",
    "from statistics import mean\n"
   ]
  },
  {
   "cell_type": "code",
   "execution_count": 2,
   "metadata": {},
   "outputs": [],
   "source": [
    "root = sys.path[0]\n",
    "train_dir =  os.path.join(root,  '../data/train_set')  \n",
    "train_image_dir =  os.path.join(train_dir, 'images')\n",
    "train_pt_dir =  os.path.join(train_dir, 'points' )\n",
    "train_label_path =  os.path.join(train_dir,  \"label.csv\")"
   ]
  },
  {
   "cell_type": "code",
   "execution_count": 4,
   "metadata": {},
   "outputs": [],
   "source": [
    "info = pd.read_csv(train_label_path)\n",
    "train_idx, test_idx = train_test_split(info['Index'], test_size=0.25, random_state=42)\n",
    "\n",
    "# read mat file and store coordinates in mat \n",
    "m = []\n",
    "for idx in info['Index']: \n",
    "    file = \"%04d.mat\"%(idx)\n",
    "    m.append( scipy.io.loadmat( os.path.join( train_pt_dir, file ) ))\n",
    "\n",
    "mat = [x[[i for i in x.keys() if not i in ['__header__', '__version__', '__globals__']][0]] for x in m]"
   ]
  },
  {
   "cell_type": "code",
   "execution_count": 5,
   "metadata": {},
   "outputs": [],
   "source": [
    "c = np.array([pdist(x) for x in mat[0:]])\n"
   ]
  },
  {
   "cell_type": "code",
   "execution_count": 6,
   "metadata": {},
   "outputs": [],
   "source": [
    "\n",
    "train_features, test_features, train_labels, test_labels = train_test_split(c, info.emotion_idx, test_size = 0.25, random_state = 42)"
   ]
  },
  {
   "cell_type": "code",
   "execution_count": 7,
   "metadata": {},
   "outputs": [],
   "source": [
    "\n",
    "\n",
    "train_mat = [ mat[i-1] for i in train_idx ] \n",
    "test_mat = [ mat[i-1] for i in test_idx ]\n",
    "train_labels = info.emotion_idx[train_idx-1]\n",
    "test_labels = info.emotion_idx[test_idx-1]\n",
    "\n"
   ]
  },
  {
   "cell_type": "code",
   "execution_count": 8,
   "metadata": {},
   "outputs": [],
   "source": [
    "train_label_cat = to_categorical(train_labels)\n",
    "train_label_cat= train_label_cat[:,1:]\n",
    "test_label_cat = to_categorical(test_labels)\n",
    "test_label_cat= test_label_cat[:,1:]\n",
    "\n",
    "Y_train = np.argmax(train_label_cat, axis=1)\n",
    "Y_test=np.argmax(test_label_cat, axis=1)"
   ]
  },
  {
   "cell_type": "code",
   "execution_count": 9,
   "metadata": {},
   "outputs": [],
   "source": [
    "from scipy.spatial.distance import pdist\n",
    "import numpy as np"
   ]
  },
  {
   "cell_type": "code",
   "execution_count": 49,
   "metadata": {},
   "outputs": [
    {
     "name": "stdout",
     "output_type": "stream",
     "text": [
      "Average with leaf=10:  [0.056      0.07733333 0.048      0.088      0.06666667]\n",
      "Average with leaf=20:  [0.12       0.14133333 0.12533333 0.12266667 0.112     ]\n",
      "Average with leaf=30:  [0.17866667 0.16266667 0.17866667 0.152      0.15733333]\n",
      "Average with leaf=50:  [0.208      0.21333333 0.21066667 0.2        0.192     ]\n",
      "Average with leaf=70:  [0.23733333 0.24266667 0.232      0.224      0.21333333]\n",
      "Average with leaf=100:  [0.24266667 0.248      0.25333333 0.248      0.26133333]\n"
     ]
    }
   ],
   "source": [
    "#decision tree\n",
    "leaf_nodes = [10, 20,30,50,70,100]\n",
    "from sklearn.tree import DecisionTreeClassifier\n",
    "from sklearn.model_selection import KFold\n",
    "from sklearn.model_selection import train_test_split\n",
    "from sklearn.model_selection import cross_val_score\n",
    "# 2. using distances\n",
    "dt_distances_accuracies = []\n",
    "for leaf_n in leaf_nodes:\n",
    "    model = DecisionTreeClassifier(max_leaf_nodes= leaf_n)\n",
    "    \n",
    "    dt_distances_acc = cross_val_score(model, train_features, train_label_cat, cv=5,scoring=\"accuracy\")\n",
    "    print(f\"Average with leaf={leaf_n}: \", dt_distances_acc)\n",
    "    dt_distances_accuracies.append(dt_distances_acc)"
   ]
  },
  {
   "cell_type": "code",
   "execution_count": 53,
   "metadata": {},
   "outputs": [
    {
     "name": "stdout",
     "output_type": "stream",
     "text": [
      "Fitting 3 folds for each of 288 candidates, totalling 864 fits\n"
     ]
    },
    {
     "name": "stderr",
     "output_type": "stream",
     "text": [
      "[Parallel(n_jobs=-1)]: Using backend LokyBackend with 12 concurrent workers.\n",
      "[Parallel(n_jobs=-1)]: Done  17 tasks      | elapsed:    7.2s\n",
      "[Parallel(n_jobs=-1)]: Done 138 tasks      | elapsed:   30.0s\n",
      "[Parallel(n_jobs=-1)]: Done 341 tasks      | elapsed:  1.1min\n",
      "[Parallel(n_jobs=-1)]: Done 624 tasks      | elapsed:  2.1min\n",
      "[Parallel(n_jobs=-1)]: Done 864 out of 864 | elapsed:  2.9min finished\n",
      "C:\\Users\\ariaa\\Anaconda3\\lib\\site-packages\\sklearn\\model_selection\\_search.py:814: DeprecationWarning: The default of the `iid` parameter will change from True to False in version 0.22 and will be removed in 0.24. This will change numeric results when test-set sizes are unequal.\n",
      "  DeprecationWarning)\n"
     ]
    },
    {
     "data": {
      "text/plain": [
       "GridSearchCV(cv=3, error_score='raise-deprecating',\n",
       "             estimator=RandomForestClassifier(bootstrap=True, class_weight=None,\n",
       "                                              criterion='gini', max_depth=None,\n",
       "                                              max_features='auto',\n",
       "                                              max_leaf_nodes=None,\n",
       "                                              min_impurity_decrease=0.0,\n",
       "                                              min_impurity_split=None,\n",
       "                                              min_samples_leaf=1,\n",
       "                                              min_samples_split=2,\n",
       "                                              min_weight_fraction_leaf=0.0,\n",
       "                                              n_estimators=100, n_jobs=None,\n",
       "                                              oob_score=False,\n",
       "                                              random_state=None, verbose=0,\n",
       "                                              warm_start=False),\n",
       "             iid='warn', n_jobs=-1,\n",
       "             param_grid={'bootstrap': [True], 'max_depth': [80, 90, 100, 110],\n",
       "                         'max_features': [2, 3], 'min_samples_leaf': [3, 4, 5],\n",
       "                         'min_samples_split': [8, 10, 12],\n",
       "                         'n_estimators': [100, 200, 300, 1000]},\n",
       "             pre_dispatch='2*n_jobs', refit=True, return_train_score=False,\n",
       "             scoring=None, verbose=2)"
      ]
     },
     "execution_count": 53,
     "metadata": {},
     "output_type": "execute_result"
    }
   ],
   "source": [
    "#Random Forest\n",
    "\n",
    "from sklearn.ensemble import RandomForestClassifier \n",
    "from sklearn.model_selection import GridSearchCV\n",
    "\n",
    "\n",
    "param_grid = {\n",
    "    'bootstrap': [True],\n",
    "    'max_depth': [80, 90, 100, 110],\n",
    "    'max_features': [2, 3],\n",
    "    'min_samples_leaf': [3, 4, 5],\n",
    "    'min_samples_split': [8, 10, 12],\n",
    "    'n_estimators': [100, 200, 300, 1000]\n",
    "}\n",
    "\n",
    "rf =RandomForestClassifier(n_estimators=100)\n",
    "grid_search = GridSearchCV(estimator = rf, param_grid = param_grid, \n",
    "                          cv = 3, n_jobs = -1, verbose = 2)\n",
    "grid_search.fit(train_features, train_labels)"
   ]
  },
  {
   "cell_type": "code",
   "execution_count": 54,
   "metadata": {},
   "outputs": [
    {
     "name": "stdout",
     "output_type": "stream",
     "text": [
      "accuracy: 0.3472\n"
     ]
    }
   ],
   "source": [
    "#print(\"best learning rate: {}\".format(grid_search.best_params_['learning_rate']))\n",
    "print(\"accuracy: {}\".format(grid_search.best_score_))"
   ]
  },
  {
   "cell_type": "code",
   "execution_count": 11,
   "metadata": {},
   "outputs": [],
   "source": [
    "from xgboost.sklearn import XGBClassifier"
   ]
  },
  {
   "cell_type": "code",
   "execution_count": 12,
   "metadata": {},
   "outputs": [],
   "source": [
    "train_labels_xgb = [ x  - 1 for x in train_labels ] \n",
    "test_labels_xgb= [ x  - 1 for x in test_labels ]"
   ]
  },
  {
   "cell_type": "code",
   "execution_count": 61,
   "metadata": {},
   "outputs": [
    {
     "name": "stdout",
     "output_type": "stream",
     "text": [
      "training  model takes 249.093 seconds\n"
     ]
    }
   ],
   "source": [
    "#XGB\n",
    "xgb = XGBClassifier(\n",
    " learning_rate =0.1,\n",
    " n_estimators= 200,\n",
    " max_depth=5,\n",
    " min_child_weight=1,\n",
    " gamma=0,\n",
    " subsample=0.8,\n",
    " colsample_bytree=0.8,\n",
    " objective= 'multi:softmax',  # for multi-labels classification \n",
    " num_class = 22, \n",
    " scale_pos_weight=1,\n",
    " seed=123)\n",
    "start_time=time.time()\n",
    "xgb.fit(train_features, train_labels_xgb ,eval_metric='auc')\n",
    "print(\"training  model takes %s seconds\" % round((time.time() - start_time),3))"
   ]
  },
  {
   "cell_type": "code",
   "execution_count": 62,
   "metadata": {},
   "outputs": [
    {
     "name": "stdout",
     "output_type": "stream",
     "text": [
      "testing model takes 0.126 seconds\n"
     ]
    }
   ],
   "source": [
    "start_time = time.time()\n",
    "pred_xgb = xgb.predict(test_features)\n",
    "print(\"testing model takes %s seconds\" % round((time.time() - start_time),3))"
   ]
  },
  {
   "cell_type": "code",
   "execution_count": 63,
   "metadata": {},
   "outputs": [
    {
     "name": "stdout",
     "output_type": "stream",
     "text": [
      "Test accuracy is 50.56 percent\n"
     ]
    }
   ],
   "source": [
    "acc_xgb = accuracy_score(pred_xgb,test_labels_xgb )\n",
    "print(\"Test accuracy is %s percent\" %(acc_xgb*100))"
   ]
  },
  {
   "cell_type": "markdown",
   "metadata": {},
   "source": [
    "## Model Tuning GBM"
   ]
  },
  {
   "cell_type": "code",
   "execution_count": 23,
   "metadata": {
    "scrolled": false
   },
   "outputs": [
    {
     "name": "stdout",
     "output_type": "stream",
     "text": [
      "Accuracy of the GBM on test set: 0.438\n",
      "              precision    recall  f1-score   support\n",
      "\n",
      "           1       0.42      0.50      0.45        20\n",
      "           2       0.79      0.71      0.75        31\n",
      "           3       0.56      0.53      0.54        38\n",
      "           4       0.52      0.50      0.51        32\n",
      "           5       0.78      0.64      0.71        28\n",
      "           6       0.53      0.68      0.60        25\n",
      "           7       0.33      0.29      0.31        24\n",
      "           8       0.64      0.69      0.67        26\n",
      "           9       0.60      0.48      0.53        25\n",
      "          10       0.55      0.32      0.41        34\n",
      "          11       0.35      0.47      0.40        19\n",
      "          12       0.33      0.26      0.30        34\n",
      "          13       0.26      0.32      0.29        28\n",
      "          14       0.64      0.51      0.57        35\n",
      "          15       0.39      0.43      0.41        21\n",
      "          16       0.61      0.67      0.64        21\n",
      "          17       0.36      0.35      0.35        43\n",
      "          18       0.37      0.19      0.25        36\n",
      "          19       0.18      0.26      0.21        23\n",
      "          20       0.21      0.32      0.25        25\n",
      "          21       0.27      0.41      0.33        29\n",
      "          22       0.30      0.25      0.27        28\n",
      "\n",
      "    accuracy                           0.44       625\n",
      "   macro avg       0.45      0.45      0.44       625\n",
      "weighted avg       0.46      0.44      0.44       625\n",
      "\n"
     ]
    }
   ],
   "source": [
    "#baseline GBM\n",
    "from sklearn.ensemble import GradientBoostingClassifier\n",
    "from sklearn.metrics import classification_report\n",
    "from sklearn.model_selection import GridSearchCV\n",
    "\n",
    "\n",
    "baseline = GradientBoostingClassifier(learning_rate=0.1, n_estimators=100,max_depth=3, min_samples_split=2, min_samples_leaf=1, subsample=1,max_features='sqrt', random_state=10)\n",
    "baseline.fit(train_features, train_labels)\n",
    "predictors=list(train_features)\n",
    "\n",
    "\n",
    "print('Accuracy of the GBM on test set: {:.3f}'.format(baseline.score(test_features,test_labels)))\n",
    "pred=baseline.predict(test_features)\n",
    "print(classification_report(test_labels, pred))"
   ]
  },
  {
   "cell_type": "code",
   "execution_count": 77,
   "metadata": {},
   "outputs": [
    {
     "data": {
      "text/plain": [
       "({'mean_fit_time': array([ 15.40715823,  29.28902969,  49.3944324 ,  53.11507711,\n",
       "          55.18816986,  59.12221122,  61.25709095,  64.76929288,\n",
       "          67.08024154,  14.92883058,  29.83723369,  71.5798696 ,\n",
       "          99.23926091, 102.55658336, 105.28049517, 107.4824029 ,\n",
       "         111.50146308, 111.21266351]),\n",
       "  'std_fit_time': array([0.17391099, 0.19572229, 0.69058842, 1.09710315, 0.39118344,\n",
       "         0.51806917, 0.888164  , 0.8851804 , 0.87036257, 0.16340271,\n",
       "         0.21745172, 0.2978652 , 1.01106934, 1.54087285, 0.79941837,\n",
       "         0.99481422, 2.61529059, 4.92342539]),\n",
       "  'mean_score_time': array([0.01815162, 0.03510671, 0.04468083, 0.0594408 , 0.06123633,\n",
       "         0.06302385, 0.06722059, 0.07380252, 0.09155502, 0.01875072,\n",
       "         0.03091779, 0.06203451, 0.09354968, 0.09195414, 0.09833708,\n",
       "         0.10930796, 0.12526441, 0.1120997 ]),\n",
       "  'std_score_time': array([0.00159578, 0.00801353, 0.0023083 , 0.0121594 , 0.00559242,\n",
       "         0.00394756, 0.0050699 , 0.00581488, 0.02311976, 0.00317908,\n",
       "         0.00427775, 0.01423653, 0.00565576, 0.00203439, 0.00695575,\n",
       "         0.01563739, 0.02966977, 0.03192448]),\n",
       "  'param_learning_rate': masked_array(data=[0.1, 0.1, 0.1, 0.1, 0.1, 0.1, 0.1, 0.1, 0.1, 0.05,\n",
       "                     0.05, 0.05, 0.05, 0.05, 0.05, 0.05, 0.05, 0.05],\n",
       "               mask=[False, False, False, False, False, False, False, False,\n",
       "                     False, False, False, False, False, False, False, False,\n",
       "                     False, False],\n",
       "         fill_value='?',\n",
       "              dtype=object),\n",
       "  'param_n_estimators': masked_array(data=[50, 100, 250, 500, 750, 1000, 1250, 1500, 1750, 50,\n",
       "                     100, 250, 500, 750, 1000, 1250, 1500, 1750],\n",
       "               mask=[False, False, False, False, False, False, False, False,\n",
       "                     False, False, False, False, False, False, False, False,\n",
       "                     False, False],\n",
       "         fill_value='?',\n",
       "              dtype=object),\n",
       "  'params': [{'learning_rate': 0.1, 'n_estimators': 50},\n",
       "   {'learning_rate': 0.1, 'n_estimators': 100},\n",
       "   {'learning_rate': 0.1, 'n_estimators': 250},\n",
       "   {'learning_rate': 0.1, 'n_estimators': 500},\n",
       "   {'learning_rate': 0.1, 'n_estimators': 750},\n",
       "   {'learning_rate': 0.1, 'n_estimators': 1000},\n",
       "   {'learning_rate': 0.1, 'n_estimators': 1250},\n",
       "   {'learning_rate': 0.1, 'n_estimators': 1500},\n",
       "   {'learning_rate': 0.1, 'n_estimators': 1750},\n",
       "   {'learning_rate': 0.05, 'n_estimators': 50},\n",
       "   {'learning_rate': 0.05, 'n_estimators': 100},\n",
       "   {'learning_rate': 0.05, 'n_estimators': 250},\n",
       "   {'learning_rate': 0.05, 'n_estimators': 500},\n",
       "   {'learning_rate': 0.05, 'n_estimators': 750},\n",
       "   {'learning_rate': 0.05, 'n_estimators': 1000},\n",
       "   {'learning_rate': 0.05, 'n_estimators': 1250},\n",
       "   {'learning_rate': 0.05, 'n_estimators': 1500},\n",
       "   {'learning_rate': 0.05, 'n_estimators': 1750}],\n",
       "  'split0_test_score': array([0.4073107 , 0.42036554, 0.44125326, 0.44125326, 0.44125326,\n",
       "         0.44125326, 0.44125326, 0.44125326, 0.44125326, 0.40992167,\n",
       "         0.43342037, 0.45430809, 0.46475196, 0.46475196, 0.46475196,\n",
       "         0.46475196, 0.46475196, 0.46475196]),\n",
       "  'split1_test_score': array([0.39370079, 0.43832021, 0.45144357, 0.45144357, 0.45144357,\n",
       "         0.45144357, 0.45144357, 0.45144357, 0.45144357, 0.41469816,\n",
       "         0.43307087, 0.44094488, 0.44356955, 0.44356955, 0.44356955,\n",
       "         0.44356955, 0.44356955, 0.44356955]),\n",
       "  'split2_test_score': array([0.38031915, 0.40425532, 0.42819149, 0.42819149, 0.42819149,\n",
       "         0.42819149, 0.42819149, 0.42819149, 0.42819149, 0.36702128,\n",
       "         0.42287234, 0.43617021, 0.43085106, 0.43085106, 0.43085106,\n",
       "         0.43085106, 0.43085106, 0.43085106]),\n",
       "  'split3_test_score': array([0.39083558, 0.43665768, 0.44743935, 0.44743935, 0.44743935,\n",
       "         0.44743935, 0.44743935, 0.44743935, 0.44743935, 0.37735849,\n",
       "         0.41509434, 0.42048518, 0.43665768, 0.43665768, 0.43665768,\n",
       "         0.43665768, 0.43665768, 0.43665768]),\n",
       "  'split4_test_score': array([0.38186813, 0.39835165, 0.41483516, 0.41758242, 0.41758242,\n",
       "         0.41758242, 0.41758242, 0.41758242, 0.41758242, 0.3543956 ,\n",
       "         0.39010989, 0.41758242, 0.42582418, 0.42307692, 0.42307692,\n",
       "         0.42307692, 0.42307692, 0.42307692]),\n",
       "  'mean_test_score': array([0.39080687, 0.41959008, 0.43663257, 0.43718202, 0.43718202,\n",
       "         0.43718202, 0.43718202, 0.43718202, 0.43718202, 0.38467904,\n",
       "         0.41891356, 0.43389816, 0.44033089, 0.43978144, 0.43978144,\n",
       "         0.43978144, 0.43978144, 0.43978144]),\n",
       "  'std_test_score': array([0.00970202, 0.01630305, 0.01344531, 0.01257103, 0.01257103,\n",
       "         0.01257103, 0.01257103, 0.01257103, 0.01257103, 0.0237521 ,\n",
       "         0.01594231, 0.01354618, 0.01356969, 0.01418751, 0.01418751,\n",
       "         0.01418751, 0.01418751, 0.01418751]),\n",
       "  'rank_test_score': array([17, 15, 13,  7,  7,  7,  7,  7,  7, 18, 16, 14,  1,  2,  2,  2,  2,\n",
       "          2])},\n",
       " {'learning_rate': 0.05, 'n_estimators': 500},\n",
       " 0.44033088672499626)"
      ]
     },
     "execution_count": 77,
     "metadata": {},
     "output_type": "execute_result"
    }
   ],
   "source": [
    "#parameter tuning\n",
    "p_test3 = {'learning_rate':[0.1,0.05], 'n_estimators':[50,100,250,500,750,1000,1250,1500,1750]}\n",
    "\n",
    "tuning = GridSearchCV(estimator =GradientBoostingClassifier(max_depth=4, min_samples_split=2, min_samples_leaf=1, subsample=1,max_features='sqrt', random_state=10), \n",
    "                param_grid = p_test3, scoring='accuracy',n_jobs=4,iid=False, cv=5)\n",
    "tuning.fit(train_features,train_labels)\n",
    "tuning.cv_results_, tuning.best_params_, tuning.best_score_\n",
    "\n"
   ]
  },
  {
   "cell_type": "code",
   "execution_count": 15,
   "metadata": {},
   "outputs": [
    {
     "data": {
      "text/plain": [
       "({'mean_fit_time': array([ 40.58575516,  38.35696554,  38.57977009,  38.29952092,\n",
       "          38.31687417, 102.51422338, 102.32999001, 101.57649493,\n",
       "         101.21041594, 102.14507036,  89.53472524, 102.88205466,\n",
       "         144.803303  , 160.99206958, 167.96524396, 112.35107007,\n",
       "         122.19003735, 140.52957344, 150.18778157, 155.27474465,\n",
       "         113.75140457, 126.88974538, 142.95140014, 147.15658612,\n",
       "         150.66461711, 115.68851538, 121.36540375, 138.62919407,\n",
       "         151.98337736, 157.94876437, 116.13507071, 125.74460964,\n",
       "         139.67533135, 151.67527475, 133.13618879,  75.14852123,\n",
       "          92.01279664,  99.80096526, 107.34059048, 107.58712349]),\n",
       "  'std_fit_time': array([ 0.92650797,  0.20145001,  0.12937892,  0.14956558,  0.15791415,\n",
       "          0.91100359,  0.19957817,  0.22300143,  0.32114387,  1.9639527 ,\n",
       "          1.48237517,  9.51006408,  7.70020316,  2.31695772,  1.83626638,\n",
       "          0.86618724,  3.69189735,  2.17396272,  1.2243321 ,  1.84006736,\n",
       "          1.4079645 ,  6.34730216,  6.17832808,  2.77971539,  3.94507733,\n",
       "          0.76464436,  2.33053521,  3.09826952,  3.71291723,  2.92301496,\n",
       "          0.87358725,  1.44455748,  1.05558572,  2.94387759, 19.52926102,\n",
       "          1.55221972,  0.3711355 ,  0.71009992,  0.8175677 ,  4.30042513]),\n",
       "  'mean_score_time': array([0.05146341, 0.04607687, 0.05804548, 0.05046449, 0.04966764,\n",
       "         0.10751286, 0.10212708, 0.10412216, 0.10791192, 0.13085003,\n",
       "         0.08257985, 0.16430569, 0.18835878, 0.20256891, 0.18022156,\n",
       "         0.1213788 , 0.17074356, 0.17054381, 0.17706671, 0.20884185,\n",
       "         0.14327035, 0.18101978, 0.17327514, 0.1660203 , 0.23438354,\n",
       "         0.12209558, 0.12765861, 0.20436187, 0.17126446, 0.16605949,\n",
       "         0.12217708, 0.15508986, 0.16437559, 0.163164  , 0.11628847,\n",
       "         0.07340364, 0.09753866, 0.0987361 , 0.09953413, 0.10791149]),\n",
       "  'std_score_time': array([0.01463922, 0.0054774 , 0.01426376, 0.00854647, 0.00709097,\n",
       "         0.01927162, 0.01108124, 0.01770233, 0.0165856 , 0.03696447,\n",
       "         0.00547729, 0.07213969, 0.0169649 , 0.02426635, 0.02223741,\n",
       "         0.0247796 , 0.04705586, 0.02133423, 0.01781101, 0.04587072,\n",
       "         0.01675487, 0.03547089, 0.01124425, 0.01538025, 0.08642127,\n",
       "         0.01515849, 0.00398903, 0.04180544, 0.02787837, 0.01719087,\n",
       "         0.01142963, 0.02796303, 0.022895  , 0.00669316, 0.00279305,\n",
       "         0.00583531, 0.00744749, 0.00777656, 0.00277807, 0.01474539]),\n",
       "  'param_max_depth': masked_array(data=[1, 1, 1, 1, 1, 3, 3, 3, 3, 3, 5, 5, 5, 5, 5, 7, 7, 7,\n",
       "                     7, 7, 9, 9, 9, 9, 9, 11, 11, 11, 11, 11, 13, 13, 13,\n",
       "                     13, 13, 15, 15, 15, 15, 15],\n",
       "               mask=[False, False, False, False, False, False, False, False,\n",
       "                     False, False, False, False, False, False, False, False,\n",
       "                     False, False, False, False, False, False, False, False,\n",
       "                     False, False, False, False, False, False, False, False,\n",
       "                     False, False, False, False, False, False, False, False],\n",
       "         fill_value='?',\n",
       "              dtype=object),\n",
       "  'param_min_samples_split': masked_array(data=[2, 22, 42, 62, 82, 2, 22, 42, 62, 82, 2, 22, 42, 62,\n",
       "                     82, 2, 22, 42, 62, 82, 2, 22, 42, 62, 82, 2, 22, 42,\n",
       "                     62, 82, 2, 22, 42, 62, 82, 2, 22, 42, 62, 82],\n",
       "               mask=[False, False, False, False, False, False, False, False,\n",
       "                     False, False, False, False, False, False, False, False,\n",
       "                     False, False, False, False, False, False, False, False,\n",
       "                     False, False, False, False, False, False, False, False,\n",
       "                     False, False, False, False, False, False, False, False],\n",
       "         fill_value='?',\n",
       "              dtype=object),\n",
       "  'params': [{'max_depth': 1, 'min_samples_split': 2},\n",
       "   {'max_depth': 1, 'min_samples_split': 22},\n",
       "   {'max_depth': 1, 'min_samples_split': 42},\n",
       "   {'max_depth': 1, 'min_samples_split': 62},\n",
       "   {'max_depth': 1, 'min_samples_split': 82},\n",
       "   {'max_depth': 3, 'min_samples_split': 2},\n",
       "   {'max_depth': 3, 'min_samples_split': 22},\n",
       "   {'max_depth': 3, 'min_samples_split': 42},\n",
       "   {'max_depth': 3, 'min_samples_split': 62},\n",
       "   {'max_depth': 3, 'min_samples_split': 82},\n",
       "   {'max_depth': 5, 'min_samples_split': 2},\n",
       "   {'max_depth': 5, 'min_samples_split': 22},\n",
       "   {'max_depth': 5, 'min_samples_split': 42},\n",
       "   {'max_depth': 5, 'min_samples_split': 62},\n",
       "   {'max_depth': 5, 'min_samples_split': 82},\n",
       "   {'max_depth': 7, 'min_samples_split': 2},\n",
       "   {'max_depth': 7, 'min_samples_split': 22},\n",
       "   {'max_depth': 7, 'min_samples_split': 42},\n",
       "   {'max_depth': 7, 'min_samples_split': 62},\n",
       "   {'max_depth': 7, 'min_samples_split': 82},\n",
       "   {'max_depth': 9, 'min_samples_split': 2},\n",
       "   {'max_depth': 9, 'min_samples_split': 22},\n",
       "   {'max_depth': 9, 'min_samples_split': 42},\n",
       "   {'max_depth': 9, 'min_samples_split': 62},\n",
       "   {'max_depth': 9, 'min_samples_split': 82},\n",
       "   {'max_depth': 11, 'min_samples_split': 2},\n",
       "   {'max_depth': 11, 'min_samples_split': 22},\n",
       "   {'max_depth': 11, 'min_samples_split': 42},\n",
       "   {'max_depth': 11, 'min_samples_split': 62},\n",
       "   {'max_depth': 11, 'min_samples_split': 82},\n",
       "   {'max_depth': 13, 'min_samples_split': 2},\n",
       "   {'max_depth': 13, 'min_samples_split': 22},\n",
       "   {'max_depth': 13, 'min_samples_split': 42},\n",
       "   {'max_depth': 13, 'min_samples_split': 62},\n",
       "   {'max_depth': 13, 'min_samples_split': 82},\n",
       "   {'max_depth': 15, 'min_samples_split': 2},\n",
       "   {'max_depth': 15, 'min_samples_split': 22},\n",
       "   {'max_depth': 15, 'min_samples_split': 42},\n",
       "   {'max_depth': 15, 'min_samples_split': 62},\n",
       "   {'max_depth': 15, 'min_samples_split': 82}],\n",
       "  'split0_test_score': array([0.44125326, 0.44125326, 0.44125326, 0.44125326, 0.44125326,\n",
       "         0.47519582, 0.48041775, 0.46475196, 0.46736292, 0.48825065,\n",
       "         0.45169713, 0.45953003, 0.47519582, 0.46997389, 0.49086162,\n",
       "         0.42558747, 0.47780679, 0.45430809, 0.45430809, 0.47780679,\n",
       "         0.45430809, 0.4386423 , 0.45169713, 0.48302872, 0.48302872,\n",
       "         0.41775457, 0.4308094 , 0.44125326, 0.44386423, 0.4464752 ,\n",
       "         0.40469974, 0.4308094 , 0.42819843, 0.44908616, 0.44908616,\n",
       "         0.41775457, 0.44125326, 0.45430809, 0.44386423, 0.4464752 ]),\n",
       "  'split1_test_score': array([0.46456693, 0.46456693, 0.46456693, 0.46456693, 0.46456693,\n",
       "         0.45669291, 0.45931759, 0.45931759, 0.47506562, 0.48031496,\n",
       "         0.4488189 , 0.44619423, 0.45669291, 0.45406824, 0.4488189 ,\n",
       "         0.40419948, 0.43307087, 0.44619423, 0.45669291, 0.46456693,\n",
       "         0.42782152, 0.44356955, 0.44619423, 0.43832021, 0.46981627,\n",
       "         0.43307087, 0.4488189 , 0.44356955, 0.46194226, 0.45406824,\n",
       "         0.39107612, 0.42519685, 0.44619423, 0.45144357, 0.46456693,\n",
       "         0.37532808, 0.42782152, 0.44619423, 0.44094488, 0.43832021]),\n",
       "  'split2_test_score': array([0.42819149, 0.42819149, 0.42819149, 0.42819149, 0.42819149,\n",
       "         0.43882979, 0.42819149, 0.43617021, 0.44414894, 0.43351064,\n",
       "         0.42819149, 0.45212766, 0.44680851, 0.45478723, 0.42553191,\n",
       "         0.42553191, 0.43882979, 0.41489362, 0.43617021, 0.44946809,\n",
       "         0.40159574, 0.42287234, 0.41489362, 0.42021277, 0.42553191,\n",
       "         0.38297872, 0.40425532, 0.41489362, 0.43085106, 0.43085106,\n",
       "         0.35638298, 0.40957447, 0.40957447, 0.41755319, 0.41223404,\n",
       "         0.37234043, 0.3962766 , 0.40159574, 0.43617021, 0.42819149]),\n",
       "  'split3_test_score': array([0.39892183, 0.39892183, 0.39892183, 0.39892183, 0.39892183,\n",
       "         0.42048518, 0.43126685, 0.41778976, 0.40431267, 0.40431267,\n",
       "         0.40700809, 0.42048518, 0.43665768, 0.44743935, 0.41509434,\n",
       "         0.37466307, 0.4097035 , 0.42857143, 0.43665768, 0.41778976,\n",
       "         0.37735849, 0.40431267, 0.40700809, 0.4393531 , 0.40700809,\n",
       "         0.393531  , 0.41239892, 0.41239892, 0.40161725, 0.43396226,\n",
       "         0.38814016, 0.42048518, 0.42587601, 0.41778976, 0.39892183,\n",
       "         0.38005391, 0.41509434, 0.43665768, 0.41239892, 0.43126685]),\n",
       "  'split4_test_score': array([0.42032967, 0.42032967, 0.42032967, 0.42032967, 0.42032967,\n",
       "         0.45054945, 0.45879121, 0.43956044, 0.43406593, 0.43681319,\n",
       "         0.43406593, 0.41758242, 0.43131868, 0.45879121, 0.45604396,\n",
       "         0.39835165, 0.40384615, 0.39010989, 0.39835165, 0.41758242,\n",
       "         0.3956044 , 0.38461538, 0.41208791, 0.42582418, 0.42307692,\n",
       "         0.39285714, 0.38461538, 0.38186813, 0.45054945, 0.39835165,\n",
       "         0.37087912, 0.39285714, 0.42032967, 0.39285714, 0.40934066,\n",
       "         0.37637363, 0.39835165, 0.41483516, 0.41208791, 0.40934066]),\n",
       "  'mean_test_score': array([0.43065264, 0.43065264, 0.43065264, 0.43065264, 0.43065264,\n",
       "         0.44835063, 0.45159698, 0.44351799, 0.44499122, 0.44864042,\n",
       "         0.43395631, 0.4391839 , 0.44933472, 0.45701199, 0.44727015,\n",
       "         0.40566672, 0.43265142, 0.42681545, 0.43643611, 0.4454428 ,\n",
       "         0.41133765, 0.41880245, 0.42637619, 0.44134779, 0.44169238,\n",
       "         0.40403846, 0.41617958, 0.4187967 , 0.43776485, 0.43274168,\n",
       "         0.38223562, 0.41578461, 0.42603456, 0.42574596, 0.42682993,\n",
       "         0.38437012, 0.41575947, 0.43071818, 0.42909323, 0.43071888]),\n",
       "  'std_test_score': array([0.02182667, 0.02182667, 0.02182667, 0.02182667, 0.02182667,\n",
       "         0.01823306, 0.01950965, 0.01692396, 0.02521816, 0.03132408,\n",
       "         0.01609401, 0.01701127, 0.01558593, 0.00743542, 0.02640995,\n",
       "         0.01901763, 0.02620575, 0.02290805, 0.02088201, 0.02437316,\n",
       "         0.0268894 , 0.02191941, 0.01868171, 0.0220822 , 0.029361  ,\n",
       "         0.01849299, 0.0220551 , 0.02252943, 0.02068644, 0.01913724,\n",
       "         0.01682251, 0.01342136, 0.01195492, 0.0219874 , 0.02536611,\n",
       "         0.01687345, 0.01719583, 0.01965531, 0.01397575, 0.01240772]),\n",
       "  'rank_test_score': array([20, 20, 20, 20, 20,  5,  2,  9,  8,  4, 15, 12,  3,  1,  6, 37, 17,\n",
       "         27, 14,  7, 36, 31, 28, 11, 10, 38, 33, 32, 13, 16, 40, 34, 29, 30,\n",
       "         26, 39, 35, 19, 25, 18])},\n",
       " {'max_depth': 5, 'min_samples_split': 62},\n",
       " 0.45701198554854694)"
      ]
     },
     "execution_count": 15,
     "metadata": {},
     "output_type": "execute_result"
    }
   ],
   "source": [
    "param_test2 = {'max_depth':range(1,16,2), 'min_samples_split':range(2,102,20)}\n",
    "tuning2 = GridSearchCV(estimator = GradientBoostingClassifier(learning_rate=0.05, n_estimators=500, max_features='sqrt', subsample=1, random_state=10), \n",
    "param_grid = param_test2, scoring='accuracy',n_jobs=4,iid=False, cv=5)\n",
    "tuning2.fit(train_features,train_labels)\n",
    "tuning2.cv_results_, tuning2.best_params_, tuning2.best_score_\n"
   ]
  },
  {
   "cell_type": "code",
   "execution_count": null,
   "metadata": {},
   "outputs": [],
   "source": [
    "max_depth=4, min_samples_split=2, min_samples_leaf=1, subsample=1,max_features='sqrt', random_state=10"
   ]
  },
  {
   "cell_type": "code",
   "execution_count": null,
   "metadata": {},
   "outputs": [],
   "source": [
    "GradientBoostingClassifier(learning_rate=0.05, n_estimators=500, max_features='sqrt', subsample=1, random_state=10)"
   ]
  },
  {
   "cell_type": "code",
   "execution_count": 16,
   "metadata": {},
   "outputs": [
    {
     "data": {
      "text/plain": [
       "({'mean_fit_time': array([ 89.67760768,  83.53989534,  82.02235537,  84.85673394,\n",
       "          91.12463117,  88.45990372,  88.95581708,  88.4936264 ,\n",
       "          87.9564497 ,  89.01561599,  94.26716447,  95.08590298,\n",
       "         105.26442308,  93.48964472,  93.88019991,  96.77465463,\n",
       "          97.0880167 ,  97.57455482,  97.78638864,  97.30277658,\n",
       "         100.91138659, 100.74981833, 100.65866098, 100.09497709,\n",
       "          95.46556411]),\n",
       "  'std_fit_time': array([1.49615454, 0.95966231, 0.88159121, 1.46604421, 0.6569406 ,\n",
       "         1.16994838, 1.08912517, 1.1969786 , 0.94302349, 1.09887796,\n",
       "         1.0402497 , 2.65640562, 5.74684138, 1.47652983, 1.14564666,\n",
       "         0.45215431, 0.9244861 , 1.88849509, 1.64256725, 1.35882913,\n",
       "         1.26310973, 1.02911607, 1.10146331, 1.15709989, 8.16125676]),\n",
       "  'mean_score_time': array([0.088762  , 0.10112958, 0.09614301, 0.09015217, 0.1075119 ,\n",
       "         0.10511837, 0.11090388, 0.11329641, 0.09195518, 0.10711389,\n",
       "         0.10192838, 0.13703365, 0.10192704, 0.10392203, 0.09853692,\n",
       "         0.1152914 , 0.11808438, 0.10731297, 0.11489296, 0.11234331,\n",
       "         0.11449432, 0.11150208, 0.11449409, 0.1218677 , 0.10531192]),\n",
       "  'std_score_time': array([0.00588418, 0.01225652, 0.01052763, 0.00831893, 0.01305464,\n",
       "         0.01991238, 0.00714693, 0.02069668, 0.00837791, 0.02056177,\n",
       "         0.01095115, 0.05197812, 0.01163731, 0.00305146, 0.01050574,\n",
       "         0.01249797, 0.01177686, 0.00789397, 0.01870481, 0.01668737,\n",
       "         0.01100465, 0.0093426 , 0.01004156, 0.01013233, 0.01309865]),\n",
       "  'param_min_samples_leaf': masked_array(data=[30, 30, 30, 30, 30, 40, 40, 40, 40, 40, 50, 50, 50, 50,\n",
       "                     50, 60, 60, 60, 60, 60, 70, 70, 70, 70, 70],\n",
       "               mask=[False, False, False, False, False, False, False, False,\n",
       "                     False, False, False, False, False, False, False, False,\n",
       "                     False, False, False, False, False, False, False, False,\n",
       "                     False],\n",
       "         fill_value='?',\n",
       "              dtype=object),\n",
       "  'param_min_samples_split': masked_array(data=[2, 22, 42, 62, 82, 2, 22, 42, 62, 82, 2, 22, 42, 62,\n",
       "                     82, 2, 22, 42, 62, 82, 2, 22, 42, 62, 82],\n",
       "               mask=[False, False, False, False, False, False, False, False,\n",
       "                     False, False, False, False, False, False, False, False,\n",
       "                     False, False, False, False, False, False, False, False,\n",
       "                     False],\n",
       "         fill_value='?',\n",
       "              dtype=object),\n",
       "  'params': [{'min_samples_leaf': 30, 'min_samples_split': 2},\n",
       "   {'min_samples_leaf': 30, 'min_samples_split': 22},\n",
       "   {'min_samples_leaf': 30, 'min_samples_split': 42},\n",
       "   {'min_samples_leaf': 30, 'min_samples_split': 62},\n",
       "   {'min_samples_leaf': 30, 'min_samples_split': 82},\n",
       "   {'min_samples_leaf': 40, 'min_samples_split': 2},\n",
       "   {'min_samples_leaf': 40, 'min_samples_split': 22},\n",
       "   {'min_samples_leaf': 40, 'min_samples_split': 42},\n",
       "   {'min_samples_leaf': 40, 'min_samples_split': 62},\n",
       "   {'min_samples_leaf': 40, 'min_samples_split': 82},\n",
       "   {'min_samples_leaf': 50, 'min_samples_split': 2},\n",
       "   {'min_samples_leaf': 50, 'min_samples_split': 22},\n",
       "   {'min_samples_leaf': 50, 'min_samples_split': 42},\n",
       "   {'min_samples_leaf': 50, 'min_samples_split': 62},\n",
       "   {'min_samples_leaf': 50, 'min_samples_split': 82},\n",
       "   {'min_samples_leaf': 60, 'min_samples_split': 2},\n",
       "   {'min_samples_leaf': 60, 'min_samples_split': 22},\n",
       "   {'min_samples_leaf': 60, 'min_samples_split': 42},\n",
       "   {'min_samples_leaf': 60, 'min_samples_split': 62},\n",
       "   {'min_samples_leaf': 60, 'min_samples_split': 82},\n",
       "   {'min_samples_leaf': 70, 'min_samples_split': 2},\n",
       "   {'min_samples_leaf': 70, 'min_samples_split': 22},\n",
       "   {'min_samples_leaf': 70, 'min_samples_split': 42},\n",
       "   {'min_samples_leaf': 70, 'min_samples_split': 62},\n",
       "   {'min_samples_leaf': 70, 'min_samples_split': 82}],\n",
       "  'split0_test_score': array([0.48041775, 0.48041775, 0.48041775, 0.48302872, 0.48825065,\n",
       "         0.48302872, 0.48302872, 0.48302872, 0.48302872, 0.48563969,\n",
       "         0.47780679, 0.47780679, 0.47780679, 0.47780679, 0.47780679,\n",
       "         0.48825065, 0.48825065, 0.48825065, 0.48825065, 0.48825065,\n",
       "         0.48825065, 0.48825065, 0.48825065, 0.48825065, 0.48825065]),\n",
       "  'split1_test_score': array([0.47769029, 0.47769029, 0.47769029, 0.49606299, 0.4671916 ,\n",
       "         0.4488189 , 0.4488189 , 0.4488189 , 0.4488189 , 0.47244094,\n",
       "         0.48031496, 0.48031496, 0.48031496, 0.48031496, 0.48031496,\n",
       "         0.47244094, 0.47244094, 0.47244094, 0.47244094, 0.47244094,\n",
       "         0.48293963, 0.48293963, 0.48293963, 0.48293963, 0.48293963]),\n",
       "  'split2_test_score': array([0.44148936, 0.44148936, 0.44148936, 0.44680851, 0.44946809,\n",
       "         0.46542553, 0.46542553, 0.46542553, 0.46542553, 0.45478723,\n",
       "         0.46542553, 0.46542553, 0.46542553, 0.46542553, 0.46542553,\n",
       "         0.44680851, 0.44680851, 0.44680851, 0.44680851, 0.44680851,\n",
       "         0.44680851, 0.44680851, 0.44680851, 0.44680851, 0.44680851]),\n",
       "  'split3_test_score': array([0.46361186, 0.46361186, 0.46361186, 0.4851752 , 0.47978437,\n",
       "         0.45552561, 0.45552561, 0.45552561, 0.45552561, 0.47978437,\n",
       "         0.44743935, 0.44743935, 0.44743935, 0.44743935, 0.44743935,\n",
       "         0.45822102, 0.45822102, 0.45822102, 0.45822102, 0.45822102,\n",
       "         0.45552561, 0.45552561, 0.45552561, 0.45552561, 0.45552561]),\n",
       "  'split4_test_score': array([0.42582418, 0.42582418, 0.42582418, 0.42307692, 0.43681319,\n",
       "         0.43681319, 0.43681319, 0.43681319, 0.43681319, 0.43406593,\n",
       "         0.44505495, 0.44505495, 0.44505495, 0.44505495, 0.44505495,\n",
       "         0.4532967 , 0.4532967 , 0.4532967 , 0.4532967 , 0.4532967 ,\n",
       "         0.45054945, 0.45054945, 0.45054945, 0.45054945, 0.45054945]),\n",
       "  'mean_test_score': array([0.45780669, 0.45780669, 0.45780669, 0.46683047, 0.46430158,\n",
       "         0.45792239, 0.45792239, 0.45792239, 0.45792239, 0.46534363,\n",
       "         0.46320832, 0.46320832, 0.46320832, 0.46320832, 0.46320832,\n",
       "         0.46380357, 0.46380357, 0.46380357, 0.46380357, 0.46380357,\n",
       "         0.46481477, 0.46481477, 0.46481477, 0.46481477, 0.46481477]),\n",
       "  'std_test_score': array([0.02111613, 0.02111613, 0.02111613, 0.02745434, 0.01895928,\n",
       "         0.01562589, 0.01562589, 0.01562589, 0.01562589, 0.01876469,\n",
       "         0.01475719, 0.01475719, 0.01475719, 0.01475719, 0.01475719,\n",
       "         0.01485029, 0.01485029, 0.01485029, 0.01485029, 0.01485029,\n",
       "         0.0172729 , 0.0172729 , 0.0172729 , 0.0172729 , 0.0172729 ]),\n",
       "  'rank_test_score': array([23, 23, 23,  1,  8, 19, 19, 19, 19,  2, 14, 14, 14, 14, 14,  9,  9,\n",
       "          9,  9,  9,  3,  3,  3,  3,  3])},\n",
       " {'min_samples_leaf': 30, 'min_samples_split': 62},\n",
       " 0.4668304697248343)"
      ]
     },
     "execution_count": 16,
     "metadata": {},
     "output_type": "execute_result"
    }
   ],
   "source": [
    "param_test3 = {'min_samples_split':range(2,102,20), 'min_samples_leaf':range(30,71,10)}\n",
    "tuning3 = GridSearchCV(estimator = GradientBoostingClassifier(learning_rate=0.05, n_estimators=500,max_depth=5,min_samples_split=62,max_features='sqrt', subsample=1, random_state=10), \n",
    "param_grid = param_test3,scoring='accuracy',n_jobs=4,iid=False, cv=5)\n",
    "tuning3.fit(train_features, train_labels)\n",
    "tuning3.cv_results_, tuning3.best_params_, tuning3.best_score_"
   ]
  },
  {
   "cell_type": "code",
   "execution_count": null,
   "metadata": {},
   "outputs": [],
   "source": [
    "(estimator = GradientBoostingClassifier(learning_rate=0.05, n_estimators=500,max_depth=5,min_samples_split=62,max_features='sqrt', subsample=1, random_state=10)"
   ]
  },
  {
   "cell_type": "code",
   "execution_count": 17,
   "metadata": {},
   "outputs": [
    {
     "data": {
      "text/plain": [
       "({'mean_fit_time': array([26.61369672, 27.64383807, 29.97579255, 32.50901365, 34.85553598,\n",
       "         37.64068222, 37.93309979]),\n",
       "  'std_fit_time': array([0.62323588, 0.27636795, 0.2664762 , 0.32661503, 0.21860567,\n",
       "         0.41865095, 1.87894825]),\n",
       "  'mean_score_time': array([0.17892132, 0.16435418, 0.13005219, 0.13464012, 0.11389446,\n",
       "         0.11728668, 0.10691428]),\n",
       "  'std_score_time': array([0.01577802, 0.03832768, 0.01047066, 0.01266297, 0.00452154,\n",
       "         0.00768974, 0.01401119]),\n",
       "  'param_max_features': masked_array(data=[7, 9, 11, 13, 15, 17, 19],\n",
       "               mask=[False, False, False, False, False, False, False],\n",
       "         fill_value='?',\n",
       "              dtype=object),\n",
       "  'params': [{'max_features': 7},\n",
       "   {'max_features': 9},\n",
       "   {'max_features': 11},\n",
       "   {'max_features': 13},\n",
       "   {'max_features': 15},\n",
       "   {'max_features': 17},\n",
       "   {'max_features': 19}],\n",
       "  'split0_test_score': array([0.4464752 , 0.45953003, 0.45691906, 0.46997389, 0.44386423,\n",
       "         0.45430809, 0.45169713]),\n",
       "  'split1_test_score': array([0.42782152, 0.43832021, 0.43832021, 0.42519685, 0.43569554,\n",
       "         0.44356955, 0.43832021]),\n",
       "  'split2_test_score': array([0.43351064, 0.42553191, 0.42819149, 0.42021277, 0.45212766,\n",
       "         0.42287234, 0.43085106]),\n",
       "  'split3_test_score': array([0.38814016, 0.4097035 , 0.41778976, 0.41509434, 0.40431267,\n",
       "         0.39622642, 0.41778976]),\n",
       "  'split4_test_score': array([0.38186813, 0.38186813, 0.40384615, 0.42582418, 0.43406593,\n",
       "         0.42032967, 0.42307692]),\n",
       "  'mean_test_score': array([0.41556313, 0.42299076, 0.42901333, 0.4312604 , 0.43401321,\n",
       "         0.42746121, 0.43234702]),\n",
       "  'std_test_score': array([0.02574999, 0.02624572, 0.01802986, 0.01974054, 0.01618722,\n",
       "         0.02013834, 0.01191799]),\n",
       "  'rank_test_score': array([7, 6, 4, 3, 1, 5, 2])},\n",
       " {'max_features': 15},\n",
       " 0.434013205985354)"
      ]
     },
     "execution_count": 17,
     "metadata": {},
     "output_type": "execute_result"
    }
   ],
   "source": [
    "param_test4 = {'max_features':range(7,20,2)}\n",
    "tuning4 = GridSearchCV(estimator = GradientBoostingClassifier(learning_rate=0.05, n_estimators=500,max_depth=5, min_samples_split=62, min_samples_leaf=30, subsample=0.8, random_state=10),\n",
    "param_grid = param_test4, scoring='accuracy',n_jobs=4,iid=False, cv=5)\n",
    "tuning4.fit(train_features,train_labels)\n",
    "tuning4.cv_results_, tuning4.best_params_, tuning4.best_score_"
   ]
  },
  {
   "cell_type": "code",
   "execution_count": null,
   "metadata": {},
   "outputs": [],
   "source": [
    "(learning_rate=0.05, n_estimators=500,max_depth=5, min_samples_split=62, min_samples_leaf=30, subsample=0.8, random_state=10)"
   ]
  },
  {
   "cell_type": "code",
   "execution_count": 18,
   "metadata": {},
   "outputs": [
    {
     "data": {
      "text/plain": [
       "({'mean_fit_time': array([84.12480321, 82.41277676, 82.12166862, 81.9759521 , 82.18908262,\n",
       "         83.05994167, 79.0576488 ]),\n",
       "  'std_fit_time': array([0.1310422 , 0.52492128, 0.7460151 , 1.16720529, 0.88341121,\n",
       "         0.57489907, 4.32177526]),\n",
       "  'mean_score_time': array([0.17453294, 0.13842959, 0.11428852, 0.12825618, 0.11329751,\n",
       "         0.09574437, 0.0987359 ]),\n",
       "  'std_score_time': array([0.05270554, 0.02701596, 0.01430072, 0.03592944, 0.0267132 ,\n",
       "         0.00459232, 0.02566052]),\n",
       "  'param_subsample': masked_array(data=[0.6, 0.7, 0.75, 0.8, 0.85, 0.9, 1.0],\n",
       "               mask=[False, False, False, False, False, False, False],\n",
       "         fill_value='?',\n",
       "              dtype=object),\n",
       "  'params': [{'subsample': 0.6},\n",
       "   {'subsample': 0.7},\n",
       "   {'subsample': 0.75},\n",
       "   {'subsample': 0.8},\n",
       "   {'subsample': 0.85},\n",
       "   {'subsample': 0.9},\n",
       "   {'subsample': 1.0}],\n",
       "  'split0_test_score': array([0.45953003, 0.45169713, 0.50130548, 0.46736292, 0.47519582,\n",
       "         0.46214099, 0.48302872]),\n",
       "  'split1_test_score': array([0.45931759, 0.45406824, 0.45931759, 0.47244094, 0.47506562,\n",
       "         0.47769029, 0.49606299]),\n",
       "  'split2_test_score': array([0.43085106, 0.45212766, 0.43882979, 0.42819149, 0.44680851,\n",
       "         0.44680851, 0.44680851]),\n",
       "  'split3_test_score': array([0.44204852, 0.45822102, 0.45822102, 0.44743935, 0.44204852,\n",
       "         0.44474394, 0.4851752 ]),\n",
       "  'split4_test_score': array([0.4478022 , 0.45604396, 0.43956044, 0.4478022 , 0.42857143,\n",
       "         0.42582418, 0.42307692]),\n",
       "  'mean_test_score': array([0.44790988, 0.4544316 , 0.45944686, 0.45264738, 0.45353798,\n",
       "         0.45144158, 0.46683047]),\n",
       "  'std_test_score': array([0.01086769, 0.00244446, 0.02269007, 0.01585574, 0.01861786,\n",
       "         0.01747025, 0.02745434]),\n",
       "  'rank_test_score': array([7, 3, 2, 5, 4, 6, 1])},\n",
       " {'subsample': 1.0},\n",
       " 0.4668304697248343)"
      ]
     },
     "execution_count": 18,
     "metadata": {},
     "output_type": "execute_result"
    }
   ],
   "source": [
    "param_test5 = {'subsample':[0.6,0.7,0.75,0.8,0.85,0.9,1.0]}\n",
    "tuning5 = GridSearchCV(estimator = GradientBoostingClassifier(learning_rate=0.05, n_estimators=500,max_depth=5,min_samples_split=62, min_samples_leaf=30,random_state=10,max_features='sqrt'),\n",
    "param_grid = param_test5, scoring='accuracy',n_jobs=4,iid=False, cv=5)\n",
    "tuning5.fit(train_features,train_labels)\n",
    "tuning5.cv_results_, tuning5.best_params_, tuning5.best_score_"
   ]
  },
  {
   "cell_type": "code",
   "execution_count": 21,
   "metadata": {},
   "outputs": [
    {
     "name": "stdout",
     "output_type": "stream",
     "text": [
      "Accuracy of the GBM on test set: 0.454\n",
      "              precision    recall  f1-score   support\n",
      "\n",
      "           1       0.46      0.65      0.54        20\n",
      "           2       0.76      0.81      0.78        31\n",
      "           3       0.58      0.58      0.58        38\n",
      "           4       0.52      0.47      0.49        32\n",
      "           5       0.61      0.71      0.66        28\n",
      "           6       0.55      0.64      0.59        25\n",
      "           7       0.44      0.33      0.38        24\n",
      "           8       0.69      0.85      0.76        26\n",
      "           9       0.65      0.52      0.58        25\n",
      "          10       0.59      0.29      0.39        34\n",
      "          11       0.25      0.42      0.31        19\n",
      "          12       0.33      0.26      0.30        34\n",
      "          13       0.20      0.18      0.19        28\n",
      "          14       0.51      0.57      0.54        35\n",
      "          15       0.29      0.38      0.33        21\n",
      "          16       0.62      0.76      0.68        21\n",
      "          17       0.40      0.33      0.36        43\n",
      "          18       0.37      0.19      0.25        36\n",
      "          19       0.17      0.22      0.19        23\n",
      "          20       0.22      0.28      0.25        25\n",
      "          21       0.35      0.38      0.37        29\n",
      "          22       0.40      0.36      0.38        28\n",
      "\n",
      "    accuracy                           0.45       625\n",
      "   macro avg       0.45      0.46      0.45       625\n",
      "weighted avg       0.46      0.45      0.45       625\n",
      "\n"
     ]
    }
   ],
   "source": [
    "from sklearn.ensemble import GradientBoostingClassifier\n",
    "from sklearn.metrics import classification_report\n",
    "from sklearn.model_selection import GridSearchCV\n",
    "\n",
    "\n",
    "baseline_tune=GradientBoostingClassifier(learning_rate=0.05, n_estimators=500,max_depth=5,min_samples_split=62, min_samples_leaf=30,random_state=10,max_features='sqrt',subsample=1.0)\n",
    "baseline_tune.fit(train_features, train_labels)\n",
    "predictors=list(train_features)\n",
    "\n",
    "\n",
    "print('Accuracy of the GBM on test set: {:.3f}'.format(baseline_tune.score(test_features,test_labels)))\n",
    "pred=baseline_tune.predict(test_features)\n",
    "print(classification_report(test_labels, pred))"
   ]
  },
  {
   "cell_type": "markdown",
   "metadata": {},
   "source": [
    "# End BaseLine Tuning from 0.438 to 0.455"
   ]
  },
  {
   "cell_type": "code",
   "execution_count": null,
   "metadata": {},
   "outputs": [],
   "source": []
  }
 ],
 "metadata": {
  "kernelspec": {
   "display_name": "Python 3",
   "language": "python",
   "name": "python3"
  },
  "language_info": {
   "codemirror_mode": {
    "name": "ipython",
    "version": 3
   },
   "file_extension": ".py",
   "mimetype": "text/x-python",
   "name": "python",
   "nbconvert_exporter": "python",
   "pygments_lexer": "ipython3",
   "version": "3.7.4"
  }
 },
 "nbformat": 4,
 "nbformat_minor": 2
}
