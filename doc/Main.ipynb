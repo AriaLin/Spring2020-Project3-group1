{
 "cells": [
  {
   "cell_type": "markdown",
   "metadata": {},
   "source": [
    "# Load Required Packages "
   ]
  },
  {
   "cell_type": "code",
   "execution_count": 55,
   "metadata": {},
   "outputs": [],
   "source": [
    "import os,sys\n",
    "import pandas as pd\n",
    "import scipy.io\n",
    "import numpy as np \n",
    "from scipy.spatial.distance import pdist\n",
    "import time \n",
    "import math\n",
    "import keras\n",
    "import matplotlib.pyplot as plt\n",
    "from tensorflow.keras.models import Sequential\n",
    "from sklearn import ensemble\n",
    "from sklearn.metrics import accuracy_score, make_scorer, classification_report\n",
    "from statistics import mean\n",
    "from sklearn.ensemble import GradientBoostingClassifier\n",
    "import PIL\n",
    "from PIL import Image\n",
    "from scipy.io import loadmat\n",
    "from sklearn.model_selection import train_test_split, cross_validate,GridSearchCV\n",
    "from keras.layers import Dense, Activation, Flatten, Input, Dropout\n",
    "from keras.layers import BatchNormalization\n",
    "from keras.models import Model\n",
    "from keras import initializers\n",
    "from keras.optimizers import Adam\n",
    "from keras.utils import to_categorical"
   ]
  },
  {
   "cell_type": "markdown",
   "metadata": {},
   "source": [
    "# Part I Baseline Model: GBM"
   ]
  },
  {
   "cell_type": "markdown",
   "metadata": {},
   "source": [
    "### 1. Provide directories for training/testing images."
   ]
  },
  {
   "cell_type": "code",
   "execution_count": 56,
   "metadata": {},
   "outputs": [],
   "source": [
    "root = sys.path[0]\n",
    "train_dir =  os.path.join(root,  '../data/train_set')  \n",
    "train_image_dir =  os.path.join(train_dir, 'images')\n",
    "train_pt_dir =  os.path.join(train_dir, 'points' )\n",
    "train_label_path =  os.path.join(train_dir,  \"label.csv\")"
   ]
  },
  {
   "cell_type": "markdown",
   "metadata": {},
   "source": [
    "###  2. Train/Test Split Feature Extraction"
   ]
  },
  {
   "cell_type": "code",
   "execution_count": 57,
   "metadata": {},
   "outputs": [],
   "source": [
    "info = pd.read_csv(train_label_path)\n",
    "# read mat file and store coordinates in mat \n",
    "m = []\n",
    "for idx in info['Index']: \n",
    "    file = \"%04d.mat\"%(idx)\n",
    "    m.append( scipy.io.loadmat( os.path.join( train_pt_dir, file ) ))\n",
    "\n",
    "mat = [x[[i for i in x.keys() if not i in ['__header__', '__version__', '__globals__']][0]] for x in m]\n",
    "c = np.array([pdist(x) for x in mat[0:]])"
   ]
  },
  {
   "cell_type": "code",
   "execution_count": 58,
   "metadata": {},
   "outputs": [],
   "source": [
    "train_idx, test_idx = train_test_split(info['Index'], test_size=0.2, random_state=123)"
   ]
  },
  {
   "cell_type": "code",
   "execution_count": 62,
   "metadata": {},
   "outputs": [
    {
     "name": "stdout",
     "output_type": "stream",
     "text": [
      "baseline train features extracting takes 0.093 seconds\n",
      "base line test features extracting takes 0.021 seconds\n",
      "(2000, 3003) (2000,)\n"
     ]
    }
   ],
   "source": [
    "start_time_test=time.time()\n",
    "train_features=np.array([pdist(mat[i-1]) for i in train_idx ])\n",
    "print(\"baseline train features extracting takes %s seconds\" % round((time.time() - start_time_test),3))\n",
    "start_time_train=time.time()\n",
    "test_features=np.array(([pdist(mat[i-1]) for i in test_idx ]))\n",
    "print(\"base line test features extracting takes %s seconds\" % round((time.time() - start_time_train),3))\n",
    "train_labels=info.emotion_idx[train_idx-1]\n",
    "test_labels=info.emotion_idx[test_idx-1]\n",
    "print(train_features.shape,train_labels.shape)"
   ]
  },
  {
   "cell_type": "markdown",
   "metadata": {},
   "source": [
    "###  3. Train a Baseline GBM model with training features and responses"
   ]
  },
  {
   "cell_type": "code",
   "execution_count": 63,
   "metadata": {
    "scrolled": false
   },
   "outputs": [
    {
     "name": "stdout",
     "output_type": "stream",
     "text": [
      "training  model takes 66.134 seconds\n",
      "Accuracy of the GBM on test set: 0.440\n",
      "testing model takes 0.044 seconds\n",
      "              precision    recall  f1-score   support\n",
      "\n",
      "           1       0.50      0.56      0.53        18\n",
      "           2       0.65      0.68      0.67        19\n",
      "           3       0.40      0.56      0.47        25\n",
      "           4       0.50      0.52      0.51        21\n",
      "           5       0.58      0.61      0.59        18\n",
      "           6       0.63      0.46      0.53        26\n",
      "           7       0.40      0.50      0.44        20\n",
      "           8       0.73      0.69      0.71        16\n",
      "           9       0.78      0.56      0.65        25\n",
      "          10       0.45      0.45      0.45        20\n",
      "          11       0.41      0.50      0.45        24\n",
      "          12       0.44      0.25      0.32        32\n",
      "          13       0.12      0.17      0.14        24\n",
      "          14       0.54      0.57      0.55        23\n",
      "          15       0.59      0.45      0.51        22\n",
      "          16       0.73      0.73      0.73        22\n",
      "          17       0.37      0.42      0.39        26\n",
      "          18       0.31      0.23      0.26        22\n",
      "          19       0.23      0.22      0.22        23\n",
      "          20       0.17      0.30      0.21        20\n",
      "          21       0.46      0.32      0.38        34\n",
      "          22       0.25      0.20      0.22        20\n",
      "\n",
      "    accuracy                           0.44       500\n",
      "   macro avg       0.47      0.45      0.45       500\n",
      "weighted avg       0.46      0.44      0.44       500\n",
      "\n"
     ]
    }
   ],
   "source": [
    "#baseline GBM\n",
    "\n",
    "baseline = GradientBoostingClassifier(learning_rate=0.1, n_estimators=100,max_depth=3, min_samples_split=2, min_samples_leaf=1, subsample=1,max_features='sqrt', random_state=10)\n",
    "start_time=time.time()\n",
    "baseline.fit(train_features, train_labels)\n",
    "print(\"training  model takes %s seconds\" % round((time.time() - start_time),3))\n",
    "predictors=list(train_features)\n",
    "\n",
    "\n",
    "print('Accuracy of the GBM on test set: {:.3f}'.format(baseline.score(test_features,test_labels)))\n",
    "start_time1 = time.time()\n",
    "pred=baseline.predict(test_features)\n",
    "print(\"testing model takes %s seconds\" % round((time.time() - start_time1),3))\n",
    "print(classification_report(test_labels, pred))"
   ]
  },
  {
   "cell_type": "markdown",
   "metadata": {},
   "source": [
    "### 4. Parameter tuning"
   ]
  },
  {
   "cell_type": "markdown",
   "metadata": {},
   "source": [
    "#### 4.1 parameter tuning Learning_rate,n_estimator"
   ]
  },
  {
   "cell_type": "code",
   "execution_count": 9,
   "metadata": {},
   "outputs": [],
   "source": [
    "#parameter tuning Learning_rate,n_estimator\n",
    "#p_test3 = {'learning_rate':[0.1,0.05], 'n_estimators':[50,100,250,500,750,1000,1250,1500,1750]}\n",
    "\n",
    "#tuning = GridSearchCV(estimator =GradientBoostingClassifier(max_depth=4, min_samples_split=2, min_samples_leaf=1, subsample=1,max_features='sqrt', random_state=10), \n",
    "#                param_grid = p_test3, scoring='accuracy',n_jobs=4,iid=False, cv=5)\n",
    "#tuning.fit(train_features,train_labels)\n",
    "#tuning.cv_results_, tuning.best_params_, tuning.best_score_\n",
    "\n"
   ]
  },
  {
   "cell_type": "markdown",
   "metadata": {},
   "source": [
    "#### 4.2 Tuning Max_depth, Min_samples_split"
   ]
  },
  {
   "cell_type": "code",
   "execution_count": 10,
   "metadata": {},
   "outputs": [],
   "source": [
    "\n",
    "#param_test2 = {'max_depth':range(1,16,2), 'min_samples_split':range(2,102,20)}\n",
    "#tuning2 = GridSearchCV(estimator = GradientBoostingClassifier(learning_rate=0.05, n_estimators=500, max_features='sqrt', subsample=1, random_state=10), \n",
    "#param_grid = param_test2, scoring='accuracy',n_jobs=4,iid=False, cv=5)\n",
    "#tuning2.fit(train_features,train_labels)\n",
    "#tuning2.cv_results_, tuning2.best_params_, tuning2.best_score_\n"
   ]
  },
  {
   "cell_type": "markdown",
   "metadata": {},
   "source": [
    "#### 4.3 Parameter Tuning:min_samples_split,min_samples_leaf"
   ]
  },
  {
   "cell_type": "code",
   "execution_count": 11,
   "metadata": {},
   "outputs": [],
   "source": [
    "#param_test3 = {'min_samples_split':range(2,102,20), 'min_samples_leaf':range(30,71,10)}\n",
    "#tuning3 = GridSearchCV(estimator = GradientBoostingClassifier(learning_rate=0.05, n_estimators=500,max_depth=5,min_samples_split=62,max_features='sqrt', subsample=1, random_state=10), \n",
    "#param_grid = param_test3,scoring='accuracy',n_jobs=4,iid=False, cv=5)\n",
    "#tuning3.fit(train_features, train_labels)\n",
    "#tuning3.cv_results_, tuning3.best_params_, tuning3.best_score_"
   ]
  },
  {
   "cell_type": "markdown",
   "metadata": {},
   "source": [
    "#### 4.4 Parameter Tuning Max_features"
   ]
  },
  {
   "cell_type": "code",
   "execution_count": 12,
   "metadata": {},
   "outputs": [],
   "source": [
    "#param_test4 = {'max_features':range(7,20,2)}\n",
    "#tuning4 = GridSearchCV(estimator = GradientBoostingClassifier(learning_rate=0.05, n_estimators=500,max_depth=5, min_samples_split=62, min_samples_leaf=30, subsample=0.8, random_state=10),\n",
    "#param_grid = param_test4, scoring='accuracy',n_jobs=4,iid=False, cv=5)\n",
    "#tuning4.fit(train_features,train_labels)\n",
    "#tuning4.cv_results_, tuning4.best_params_, tuning4.best_score_"
   ]
  },
  {
   "cell_type": "markdown",
   "metadata": {},
   "source": [
    "#### 4.5 Parameter Tuning Subsample"
   ]
  },
  {
   "cell_type": "code",
   "execution_count": 13,
   "metadata": {
    "scrolled": true
   },
   "outputs": [],
   "source": [
    "#param_test5 = {'subsample':[0.6,0.7,0.75,0.8,0.85,0.9,1.0]}\n",
    "#tuning5 = GridSearchCV(estimator = GradientBoostingClassifier(learning_rate=0.05, n_estimators=500,max_depth=5,min_samples_split=62, min_samples_leaf=30,random_state=10,max_features='sqrt'),\n",
    "#param_grid = param_test5, scoring='accuracy',n_jobs=4,iid=False, cv=5)\n",
    "#tuning5.fit(train_features,train_labels)\n",
    "#tuning5.cv_results_, tuning5.best_params_, tuning5.best_score_"
   ]
  },
  {
   "cell_type": "markdown",
   "metadata": {},
   "source": [
    "### 5. Final Parameter set at: learning_rate=0.05, n_estimators=500,max_depth=5,min_samples_split=62, min_samples_leaf=30,random_state=10,max_features='sqrt',subsample=1.0"
   ]
  },
  {
   "cell_type": "code",
   "execution_count": 64,
   "metadata": {},
   "outputs": [
    {
     "name": "stdout",
     "output_type": "stream",
     "text": [
      "training  model takes 254.984 seconds\n",
      "Accuracy of the GBM on test set: 0.486\n",
      "testing model takes 0.165 seconds\n",
      "              precision    recall  f1-score   support\n",
      "\n",
      "           1       0.57      0.72      0.63        18\n",
      "           2       0.70      0.84      0.76        19\n",
      "           3       0.41      0.52      0.46        25\n",
      "           4       0.43      0.57      0.49        21\n",
      "           5       0.57      0.72      0.63        18\n",
      "           6       0.72      0.50      0.59        26\n",
      "           7       0.58      0.55      0.56        20\n",
      "           8       0.75      0.75      0.75        16\n",
      "           9       0.80      0.64      0.71        25\n",
      "          10       0.41      0.45      0.43        20\n",
      "          11       0.48      0.67      0.56        24\n",
      "          12       0.44      0.34      0.39        32\n",
      "          13       0.22      0.21      0.21        24\n",
      "          14       0.52      0.65      0.58        23\n",
      "          15       0.61      0.50      0.55        22\n",
      "          16       0.80      0.73      0.76        22\n",
      "          17       0.29      0.31      0.30        26\n",
      "          18       0.26      0.23      0.24        22\n",
      "          19       0.26      0.26      0.26        23\n",
      "          20       0.24      0.30      0.27        20\n",
      "          21       0.52      0.38      0.44        34\n",
      "          22       0.38      0.15      0.21        20\n",
      "\n",
      "    accuracy                           0.49       500\n",
      "   macro avg       0.50      0.50      0.49       500\n",
      "weighted avg       0.49      0.49      0.48       500\n",
      "\n"
     ]
    }
   ],
   "source": [
    "baseline_tune=GradientBoostingClassifier(learning_rate=0.05, n_estimators=500,max_depth=5,min_samples_split=62, min_samples_leaf=30,random_state=10,max_features='sqrt',subsample=1.0)\n",
    "start_time=time.time()\n",
    "baseline_tune.fit(train_features, train_labels)\n",
    "print(\"training  model takes %s seconds\" % round((time.time() - start_time),3))\n",
    "predictors=list(train_features)\n",
    "\n",
    "print('Accuracy of the GBM on test set: {:.3f}'.format(baseline_tune.score(test_features,test_labels)))\n",
    "start_time1 = time.time()\n",
    "pred=baseline_tune.predict(test_features)\n",
    "print(\"testing model takes %s seconds\" % round((time.time() - start_time1),3))\n",
    "print(classification_report(test_labels, pred))"
   ]
  },
  {
   "cell_type": "markdown",
   "metadata": {},
   "source": [
    "### Increase accuracy from 0.440 to 0.486 after tuning"
   ]
  },
  {
   "cell_type": "markdown",
   "metadata": {},
   "source": [
    "# Part II  Advanced Model: Densely-connected Neural Networks\n",
    "\n",
    "__Procedure__\n",
    "\n",
    "BatchNorm -> Densely-connected NN -> ReLu -> Dropout -> BatchNorm -> Densely-connected NN -> ReLu -> Dropout -> Densely-connected NN -> ReLu -> Dropout -> Densely-connected NN -> ReLu -> Densely-connected NN -> Softmax -> Output"
   ]
  },
  {
   "cell_type": "markdown",
   "metadata": {},
   "source": [
    "### 1. Provide directories for training/testing images."
   ]
  },
  {
   "cell_type": "code",
   "execution_count": 65,
   "metadata": {},
   "outputs": [],
   "source": [
    "\"\"\"\n",
    "Path\n",
    "\"\"\"\n",
    "DATA_PATH = \"../data/train_set\"\n",
    "POINTS_FOLDER = os.path.join(DATA_PATH, \"points\")\n",
    "LABELS_FOLDER = DATA_PATH"
   ]
  },
  {
   "cell_type": "markdown",
   "metadata": {},
   "source": [
    "###  2. Train/Test Split Feature Extraction"
   ]
  },
  {
   "cell_type": "code",
   "execution_count": 66,
   "metadata": {},
   "outputs": [
    {
     "name": "stdout",
     "output_type": "stream",
     "text": [
      "Feature Extraction time on training set: 0.08642888069152832 seconds\n",
      "Feature Extraction time on test set: 0.022643089294433594 seconds\n"
     ]
    }
   ],
   "source": [
    "def read_labels():\n",
    "    labels_df = pd.read_csv(os.path.join(LABELS_FOLDER, 'label.csv'))\n",
    "    labels_df = labels_df.loc[:,['emotion_idx','emotion_cat','type']]\n",
    "    return labels_df\n",
    "\n",
    "def read_points():\n",
    "    files = [file for file in os.listdir(POINTS_FOLDER) if file.endswith('.mat')]\n",
    "    files.sort()\n",
    "    \n",
    "    face_points = np.zeros((len(files), 78, 2))\n",
    "    for index, filename in enumerate(files):\n",
    "        face_points_dict = loadmat(os.path.join(POINTS_FOLDER, filename))\n",
    "    \n",
    "        face_points[index] = face_points_dict.get('faceCoordinatesUnwarped',  face_points_dict.get('faceCoordinates2'))\n",
    "    return face_points\n",
    "\n",
    "points = read_points()\n",
    "labels = read_labels()\n",
    "\n",
    "### train test split\n",
    "X_points_train, X_points_test, y_train, y_test = train_test_split(points,labels,test_size=0.2, random_state=666)\n",
    "\n",
    "### Feature Extraction time on training set:\n",
    "feature_training_start = time.time()\n",
    "X_train = np.zeros((X_points_train.shape[0], 3003))\n",
    "for i in range(X_points_train.shape[0]):\n",
    "    current = X_points_train[i]\n",
    "    X_train[i,] = pdist(current)\n",
    "feature_training_end = time.time()\n",
    "y_train = y_train['emotion_idx']\n",
    "y_train = to_categorical(y_train)[:,1:]\n",
    "print(\"Feature Extraction time on training set:\",\"%s seconds\"%(feature_training_end - feature_training_start))\n",
    "    \n",
    "### Feature Extraction time on test set:\n",
    "feature_test_start = time.time()\n",
    "X_test = np.zeros((X_points_test.shape[0], 3003))\n",
    "for i in range(X_points_test.shape[0]):\n",
    "    current = X_points_test[i]\n",
    "    X_test[i,] = pdist(current)\n",
    "feature_test_end = time.time()\n",
    "y_test = y_test['emotion_idx']\n",
    "y_test = to_categorical(y_test)[:,1:]\n",
    "print(\"Feature Extraction time on test set:\",\"%s seconds\"%(feature_test_end - feature_test_start))"
   ]
  },
  {
   "cell_type": "markdown",
   "metadata": {},
   "source": [
    "### 3. Train model"
   ]
  },
  {
   "cell_type": "code",
   "execution_count": 67,
   "metadata": {},
   "outputs": [],
   "source": [
    "input_shape = [3003] \n",
    "input_layer = Input(input_shape)\n",
    "x = BatchNormalization(momentum = 0.88)(input_layer) \n",
    "x = Dense(22*10,activation='relu',kernel_initializer=initializers.glorot_normal(seed=4))(x)\n",
    "x = Dropout(0.25)(x)\n",
    "x = BatchNormalization()(x) \n",
    "x = Dense(22*8,activation='relu',kernel_initializer=initializers.glorot_normal(seed=4))(x)\n",
    "x = Dropout(0.25)(x)\n",
    "x = Dense(22*4,activation='relu',kernel_initializer=initializers.glorot_normal(seed=4))(x)\n",
    "x = Dropout(0.25)(x)\n",
    "x = Dense(22*2,activation='relu',kernel_initializer=initializers.glorot_normal(seed=4))(x)\n",
    "output_layer = Dense(22,activation='softmax',kernel_initializer=initializers.glorot_normal(seed=4))(x) \n",
    "model2 = Model(input_layer,output_layer)"
   ]
  },
  {
   "cell_type": "code",
   "execution_count": 68,
   "metadata": {},
   "outputs": [
    {
     "name": "stdout",
     "output_type": "stream",
     "text": [
      "Train on 2000 samples, validate on 500 samples\n",
      "Epoch 1/40\n",
      "2000/2000 [==============================] - 5s 3ms/step - loss: 3.0269 - accuracy: 0.0990 - val_loss: 2.7920 - val_accuracy: 0.1700\n",
      "Epoch 2/40\n",
      "2000/2000 [==============================] - 2s 1ms/step - loss: 2.6582 - accuracy: 0.1660 - val_loss: 2.3423 - val_accuracy: 0.2420\n",
      "Epoch 3/40\n",
      "2000/2000 [==============================] - 2s 1ms/step - loss: 2.3774 - accuracy: 0.2375 - val_loss: 2.0918 - val_accuracy: 0.2940\n",
      "Epoch 4/40\n",
      "2000/2000 [==============================] - 3s 1ms/step - loss: 2.1810 - accuracy: 0.2610 - val_loss: 1.9944 - val_accuracy: 0.3140\n",
      "Epoch 5/40\n",
      "2000/2000 [==============================] - 3s 1ms/step - loss: 2.0409 - accuracy: 0.3195 - val_loss: 1.7949 - val_accuracy: 0.3840\n",
      "Epoch 6/40\n",
      "2000/2000 [==============================] - 3s 1ms/step - loss: 1.9855 - accuracy: 0.3100 - val_loss: 1.7787 - val_accuracy: 0.3800\n",
      "Epoch 7/40\n",
      "2000/2000 [==============================] - 3s 1ms/step - loss: 1.9317 - accuracy: 0.3510 - val_loss: 1.7717 - val_accuracy: 0.3820\n",
      "Epoch 8/40\n",
      "2000/2000 [==============================] - 3s 1ms/step - loss: 1.8672 - accuracy: 0.3780 - val_loss: 1.6792 - val_accuracy: 0.4240\n",
      "Epoch 9/40\n",
      "2000/2000 [==============================] - 3s 1ms/step - loss: 1.8162 - accuracy: 0.3970 - val_loss: 1.6650 - val_accuracy: 0.4280\n",
      "Epoch 10/40\n",
      "2000/2000 [==============================] - 3s 2ms/step - loss: 1.7853 - accuracy: 0.4020 - val_loss: 1.6706 - val_accuracy: 0.4480\n",
      "Epoch 11/40\n",
      "2000/2000 [==============================] - 3s 1ms/step - loss: 1.7429 - accuracy: 0.4315 - val_loss: 1.5854 - val_accuracy: 0.4700\n",
      "Epoch 12/40\n",
      "2000/2000 [==============================] - 3s 1ms/step - loss: 1.6919 - accuracy: 0.4270 - val_loss: 1.5941 - val_accuracy: 0.4500\n",
      "Epoch 13/40\n",
      "2000/2000 [==============================] - 3s 1ms/step - loss: 1.6461 - accuracy: 0.4455 - val_loss: 1.5573 - val_accuracy: 0.4700\n",
      "Epoch 14/40\n",
      "2000/2000 [==============================] - 3s 2ms/step - loss: 1.5596 - accuracy: 0.4700 - val_loss: 1.5451 - val_accuracy: 0.4920\n",
      "Epoch 15/40\n",
      "2000/2000 [==============================] - 3s 2ms/step - loss: 1.5842 - accuracy: 0.4600 - val_loss: 1.5445 - val_accuracy: 0.4620\n",
      "Epoch 16/40\n",
      "2000/2000 [==============================] - 3s 1ms/step - loss: 1.5176 - accuracy: 0.4805 - val_loss: 1.5046 - val_accuracy: 0.4680\n",
      "Epoch 17/40\n",
      "2000/2000 [==============================] - 3s 1ms/step - loss: 1.5125 - accuracy: 0.4795 - val_loss: 1.5085 - val_accuracy: 0.5040\n",
      "Epoch 18/40\n",
      "2000/2000 [==============================] - 3s 1ms/step - loss: 1.4849 - accuracy: 0.4895 - val_loss: 1.4787 - val_accuracy: 0.4660\n",
      "Epoch 19/40\n",
      "2000/2000 [==============================] - 3s 1ms/step - loss: 1.4105 - accuracy: 0.5050 - val_loss: 1.5293 - val_accuracy: 0.4600\n",
      "Epoch 20/40\n",
      "2000/2000 [==============================] - 3s 1ms/step - loss: 1.4444 - accuracy: 0.4955 - val_loss: 1.4738 - val_accuracy: 0.4840\n",
      "Epoch 21/40\n",
      "2000/2000 [==============================] - 3s 1ms/step - loss: 1.4051 - accuracy: 0.5125 - val_loss: 1.5263 - val_accuracy: 0.4680\n",
      "Epoch 22/40\n",
      "2000/2000 [==============================] - 3s 1ms/step - loss: 1.3799 - accuracy: 0.5200 - val_loss: 1.4523 - val_accuracy: 0.4920\n",
      "Epoch 23/40\n",
      "2000/2000 [==============================] - 3s 1ms/step - loss: 1.3800 - accuracy: 0.5315 - val_loss: 1.4510 - val_accuracy: 0.4880\n",
      "Epoch 24/40\n",
      "2000/2000 [==============================] - 3s 2ms/step - loss: 1.3305 - accuracy: 0.5455 - val_loss: 1.4100 - val_accuracy: 0.5020\n",
      "Epoch 25/40\n",
      "2000/2000 [==============================] - 3s 2ms/step - loss: 1.3163 - accuracy: 0.5465 - val_loss: 1.3894 - val_accuracy: 0.5340\n",
      "Epoch 26/40\n",
      "2000/2000 [==============================] - 4s 2ms/step - loss: 1.3285 - accuracy: 0.5475 - val_loss: 1.4608 - val_accuracy: 0.4880\n",
      "Epoch 27/40\n",
      "2000/2000 [==============================] - 3s 1ms/step - loss: 1.3028 - accuracy: 0.5470 - val_loss: 1.4193 - val_accuracy: 0.5060\n",
      "Epoch 28/40\n",
      "2000/2000 [==============================] - 3s 1ms/step - loss: 1.3025 - accuracy: 0.5550 - val_loss: 1.4377 - val_accuracy: 0.5080\n",
      "Epoch 29/40\n",
      "2000/2000 [==============================] - 3s 1ms/step - loss: 1.2296 - accuracy: 0.5820 - val_loss: 1.4006 - val_accuracy: 0.5140\n",
      "Epoch 30/40\n",
      "2000/2000 [==============================] - 3s 1ms/step - loss: 1.3002 - accuracy: 0.5545 - val_loss: 1.4246 - val_accuracy: 0.5040\n",
      "Epoch 31/40\n",
      "2000/2000 [==============================] - 3s 1ms/step - loss: 1.2375 - accuracy: 0.5850 - val_loss: 1.4244 - val_accuracy: 0.5320\n",
      "Epoch 32/40\n",
      "2000/2000 [==============================] - 3s 1ms/step - loss: 1.1772 - accuracy: 0.5880 - val_loss: 1.3912 - val_accuracy: 0.5380\n",
      "Epoch 33/40\n",
      "2000/2000 [==============================] - 3s 1ms/step - loss: 1.2212 - accuracy: 0.5955 - val_loss: 1.4758 - val_accuracy: 0.5160\n",
      "Epoch 34/40\n",
      "2000/2000 [==============================] - 3s 1ms/step - loss: 1.2519 - accuracy: 0.5840 - val_loss: 1.4336 - val_accuracy: 0.5080\n",
      "Epoch 35/40\n",
      "2000/2000 [==============================] - 3s 2ms/step - loss: 1.1852 - accuracy: 0.5950 - val_loss: 1.3802 - val_accuracy: 0.5300\n",
      "Epoch 36/40\n",
      "2000/2000 [==============================] - 3s 1ms/step - loss: 1.1838 - accuracy: 0.6030 - val_loss: 1.4425 - val_accuracy: 0.5080\n",
      "Epoch 37/40\n",
      "2000/2000 [==============================] - 2s 1ms/step - loss: 1.1977 - accuracy: 0.5910 - val_loss: 1.4042 - val_accuracy: 0.5200\n",
      "Epoch 38/40\n",
      "2000/2000 [==============================] - 4s 2ms/step - loss: 1.1580 - accuracy: 0.6105 - val_loss: 1.4683 - val_accuracy: 0.4900\n",
      "Epoch 39/40\n",
      "2000/2000 [==============================] - 3s 2ms/step - loss: 1.1638 - accuracy: 0.5925 - val_loss: 1.3911 - val_accuracy: 0.5280\n",
      "Epoch 40/40\n",
      "2000/2000 [==============================] - 3s 1ms/step - loss: 1.1302 - accuracy: 0.6080 - val_loss: 1.3925 - val_accuracy: 0.5260\n",
      "training  model takes 118.991 seconds\n"
     ]
    }
   ],
   "source": [
    "start_time = time.time()\n",
    "model2.compile(loss='categorical_crossentropy',optimizer = Adam(lr=0.001),metrics=['accuracy'])\n",
    "model_history = model2.fit(X_train,y_train,epochs = 40,validation_data=[X_test,y_test])\n",
    "print(\"training  model takes %s seconds\" % round((time.time() - start_time),3))"
   ]
  },
  {
   "cell_type": "code",
   "execution_count": 69,
   "metadata": {},
   "outputs": [
    {
     "data": {
      "text/plain": [
       "Text(0.5, 1.0, 'Accuracy Curves')"
      ]
     },
     "execution_count": 69,
     "metadata": {},
     "output_type": "execute_result"
    },
    {
     "data": {
      "image/png": "[encoded data removed]",
      "text/plain": [
       "<Figure size 864x576 with 1 Axes>"
      ]
     },
     "metadata": {
      "needs_background": "light"
     },
     "output_type": "display_data"
    }
   ],
   "source": [
    "fig, ax = plt.subplots(figsize=[12,8])\n",
    "ax.plot(model_history.history['accuracy'],'r',linewidth=1.0, label = 'Training Accuracy')\n",
    "ax.legend()\n",
    "plt.xlabel('Epochs ',fontsize=16)\n",
    "plt.ylabel('Accuracy',fontsize=16)\n",
    "plt.title('Accuracy Curves',fontsize=16)"
   ]
  },
  {
   "cell_type": "markdown",
   "metadata": {},
   "source": [
    "### 4. Test accuracy"
   ]
  },
  {
   "cell_type": "code",
   "execution_count": 70,
   "metadata": {},
   "outputs": [
    {
     "name": "stdout",
     "output_type": "stream",
     "text": [
      "500/500 [==============================] - 0s 416us/step\n",
      "Loss = 1.3924654483795167\n",
      "Test Accuracy = 0.5260000228881836\n"
     ]
    }
   ],
   "source": [
    "preds = model2.evaluate(X_test, y_test)\n",
    "print (\"Loss = \" + str(preds[0]))\n",
    "print (\"Test Accuracy = \" + str(preds[1]))"
   ]
  },
  {
   "cell_type": "markdown",
   "metadata": {},
   "source": [
    "### 5. Predicted label"
   ]
  },
  {
   "cell_type": "code",
   "execution_count": 71,
   "metadata": {},
   "outputs": [
    {
     "data": {
      "text/plain": [
       "array([13,  6,  6, 11, 22, 19, 11, 11, 13, 15,  4, 17, 22, 18, 13,  8, 10,\n",
       "       20,  4,  4, 16,  5,  3,  1,  3, 14,  7,  3, 22, 14,  5, 19, 17,  7,\n",
       "       16, 17, 22,  2,  4,  2, 10, 11,  4, 11, 16, 17, 17, 16, 21,  5, 12,\n",
       "       15,  3, 15, 21, 19,  3,  3,  5,  4,  4,  2,  4, 21,  9, 13,  3, 21,\n",
       "        5, 15, 17, 12, 16,  2, 22,  1,  2,  6, 12,  5, 12,  1,  7, 19, 14,\n",
       "       20, 11, 21, 20, 22,  3, 15, 20, 15,  7,  7,  8,  1, 14,  2, 20,  2,\n",
       "       22,  4, 16,  9, 12, 21,  1, 17,  1, 17, 12, 13,  7, 10, 22, 21, 18,\n",
       "       21,  1, 17,  4,  2, 17, 13, 19,  4,  8,  4, 10,  7, 12, 10, 15, 18,\n",
       "       14,  4, 20, 21, 21, 14, 12, 14,  3, 10, 10, 15, 17, 10,  4, 19, 22,\n",
       "        1, 14,  5, 16, 17,  1, 10, 21, 10, 20,  3, 21, 16,  4,  5, 15, 19,\n",
       "        4,  4, 14, 19, 19, 15, 14, 22, 16, 10, 12, 21,  3, 12,  1, 11,  5,\n",
       "       19,  7,  5, 13,  5,  3,  3,  4, 11, 19, 16, 14,  9, 14, 14, 17, 17,\n",
       "        2, 13, 14, 10,  6, 13,  3,  2,  2, 12, 10, 19, 11,  3,  3, 18, 18,\n",
       "       11, 14, 20, 15,  8,  1, 14,  9, 15, 15, 21, 21,  9, 10, 20, 10, 20,\n",
       "       22, 21, 10, 14, 10, 10, 10, 12, 21, 10, 17,  6, 10, 22,  5, 12, 10,\n",
       "        9, 20,  3,  7, 17,  2, 22, 17, 19, 21,  2, 10, 14,  8,  2, 13, 15,\n",
       "       15,  5,  6, 22,  9, 21,  4, 10, 10,  4,  7, 21, 10,  3,  3,  9, 16,\n",
       "        5,  6, 10, 19,  6, 13,  2, 10, 20, 17, 21,  2,  1, 16,  7,  2,  6,\n",
       "       13, 11, 16, 10, 21,  9,  2, 13, 17,  3,  5, 10, 21, 11,  5,  4,  9,\n",
       "       17,  5, 14, 15, 16,  1, 13, 10, 11, 20,  3,  5,  3,  6, 22,  5,  8,\n",
       "       13, 21,  3, 11, 20,  1, 10, 18,  9,  3, 12, 10, 10, 10,  6, 19,  6,\n",
       "        1, 22,  9, 17, 20,  4,  3, 21, 21, 17, 12, 12, 11,  8,  3, 12, 16,\n",
       "        7, 20,  1, 19,  2,  5,  8,  4, 17,  2, 10,  2, 16, 14, 12, 21, 22,\n",
       "       12, 11, 17, 19, 17, 14,  3, 17, 11, 21, 12,  9, 16, 14, 20,  3, 17,\n",
       "        6,  6, 15, 11,  5,  2, 19,  4, 18, 10, 19, 10,  3,  5,  1,  1, 11,\n",
       "       16, 10, 21, 12, 10, 12,  8,  7, 21, 12, 11, 19, 14, 17, 17,  7, 11,\n",
       "        8, 17,  6,  7, 17, 10, 16,  3, 21, 14, 14,  7,  9, 13, 21,  1, 19,\n",
       "       21,  4, 10,  8, 14, 21, 19,  5, 15, 14, 17, 16,  1,  2, 15,  1, 13,\n",
       "       15, 21,  8, 22,  2, 22, 13, 18,  1, 20, 10, 21, 13, 22, 20, 10, 10,\n",
       "       22,  1, 11,  9, 18, 18, 17])"
      ]
     },
     "execution_count": 71,
     "metadata": {},
     "output_type": "execute_result"
    }
   ],
   "source": [
    "y_predict = []\n",
    "for i in model2.predict(X_test):\n",
    "    y_predict.append(np.argmax(i) + 1)\n",
    "np.array(y_predict)"
   ]
  },
  {
   "cell_type": "code",
   "execution_count": null,
   "metadata": {},
   "outputs": [],
   "source": []
  }
 ],
 "metadata": {
  "kernelspec": {
   "display_name": "Python 3",
   "language": "python",
   "name": "python3"
  },
  "language_info": {
   "codemirror_mode": {
    "name": "ipython",
    "version": 3
   },
   "file_extension": ".py",
   "mimetype": "text/x-python",
   "name": "python",
   "nbconvert_exporter": "python",
   "pygments_lexer": "ipython3",
   "version": "3.7.4"
  }
 },
 "nbformat": 4,
 "nbformat_minor": 2
}
