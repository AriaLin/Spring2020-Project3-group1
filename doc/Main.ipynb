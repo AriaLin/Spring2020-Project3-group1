{
 "cells": [
  {
   "cell_type": "markdown",
   "metadata": {},
   "source": [
    "# Load Required Packages "
   ]
  },
  {
   "cell_type": "code",
   "execution_count": 2,
   "metadata": {},
   "outputs": [
    {
     "name": "stderr",
     "output_type": "stream",
     "text": [
      "Using TensorFlow backend.\n"
     ]
    }
   ],
   "source": [
    "import os,sys\n",
    "import pandas as pd\n",
    "import scipy.io\n",
    "import numpy as np \n",
    "from scipy.spatial.distance import pdist\n",
    "import time \n",
    "import math\n",
    "import keras\n",
    "import matplotlib.pyplot as plt\n",
    "from tensorflow.keras.models import Sequential\n",
    "from sklearn import ensemble\n",
    "from sklearn.metrics import accuracy_score, make_scorer, classification_report\n",
    "from statistics import mean\n",
    "from sklearn.ensemble import GradientBoostingClassifier\n",
    "import PIL\n",
    "from PIL import Image\n",
    "from scipy.io import loadmat\n",
    "from sklearn.model_selection import train_test_split, cross_validate,GridSearchCV\n",
    "from keras.layers import Dense, Activation, Flatten, Input, Dropout\n",
    "from keras.layers import BatchNormalization\n",
    "from keras.models import Model\n",
    "from keras import initializers\n",
    "from keras.optimizers import Adam\n",
    "from keras.utils import to_categorical"
   ]
  },
  {
   "cell_type": "markdown",
   "metadata": {},
   "source": [
    "# Part I Baseline Model: GBM"
   ]
  },
  {
   "cell_type": "markdown",
   "metadata": {},
   "source": [
    "### 1. Provide directories for training/testing images."
   ]
  },
  {
   "cell_type": "code",
   "execution_count": 15,
   "metadata": {},
   "outputs": [],
   "source": [
    "root = sys.path[0]\n",
    "train_dir =  os.path.join(root,  '../data/train_set')  \n",
    "train_image_dir =  os.path.join(train_dir, 'images')\n",
    "train_pt_dir =  os.path.join(train_dir, 'points' )\n",
    "train_label_path =  os.path.join(train_dir,  \"label.csv\")"
   ]
  },
  {
   "cell_type": "markdown",
   "metadata": {},
   "source": [
    "###  2. Train/Test Split Feature Extraction"
   ]
  },
  {
   "cell_type": "code",
   "execution_count": 16,
   "metadata": {},
   "outputs": [],
   "source": [
    "info = pd.read_csv(train_label_path)\n",
    "# read mat file and store coordinates in mat \n",
    "m = []\n",
    "for idx in info['Index']: \n",
    "    file = \"%04d.mat\"%(idx)\n",
    "    m.append( scipy.io.loadmat( os.path.join( train_pt_dir, file ) ))\n",
    "\n",
    "mat = [x[[i for i in x.keys() if not i in ['__header__', '__version__', '__globals__']][0]] for x in m]\n",
    "c = np.array([pdist(x) for x in mat[0:]])"
   ]
  },
  {
   "cell_type": "code",
   "execution_count": 17,
   "metadata": {},
   "outputs": [],
   "source": [
    "train_idx, test_idx = train_test_split(info['Index'], test_size=0.2, random_state=123)"
   ]
  },
  {
   "cell_type": "code",
   "execution_count": 18,
   "metadata": {},
   "outputs": [
    {
     "name": "stdout",
     "output_type": "stream",
     "text": [
      "baseline train features extracting takes 0.121 seconds\n",
      "base line test features extracting takes 0.027 seconds\n",
      "(2000, 3003) (2000,)\n"
     ]
    }
   ],
   "source": [
    "start_time_test=time.time()\n",
    "train_features=np.array([pdist(mat[i-1]) for i in train_idx ])\n",
    "print(\"baseline train features extracting takes %s seconds\" % round((time.time() - start_time_test),3))\n",
    "start_time_train=time.time()\n",
    "test_features=np.array(([pdist(mat[i-1]) for i in test_idx ]))\n",
    "print(\"base line test features extracting takes %s seconds\" % round((time.time() - start_time_train),3))\n",
    "train_labels=info.emotion_idx[train_idx-1]\n",
    "test_labels=info.emotion_idx[test_idx-1]\n",
    "print(train_features.shape,train_labels.shape)"
   ]
  },
  {
   "cell_type": "markdown",
   "metadata": {},
   "source": [
    "###  3. Train a Baseline GBM model with training features and responses"
   ]
  },
  {
   "cell_type": "code",
   "execution_count": 63,
   "metadata": {
    "scrolled": false
   },
   "outputs": [
    {
     "name": "stdout",
     "output_type": "stream",
     "text": [
      "training  model takes 66.134 seconds\n",
      "Accuracy of the GBM on test set: 0.440\n",
      "testing model takes 0.044 seconds\n",
      "              precision    recall  f1-score   support\n",
      "\n",
      "           1       0.50      0.56      0.53        18\n",
      "           2       0.65      0.68      0.67        19\n",
      "           3       0.40      0.56      0.47        25\n",
      "           4       0.50      0.52      0.51        21\n",
      "           5       0.58      0.61      0.59        18\n",
      "           6       0.63      0.46      0.53        26\n",
      "           7       0.40      0.50      0.44        20\n",
      "           8       0.73      0.69      0.71        16\n",
      "           9       0.78      0.56      0.65        25\n",
      "          10       0.45      0.45      0.45        20\n",
      "          11       0.41      0.50      0.45        24\n",
      "          12       0.44      0.25      0.32        32\n",
      "          13       0.12      0.17      0.14        24\n",
      "          14       0.54      0.57      0.55        23\n",
      "          15       0.59      0.45      0.51        22\n",
      "          16       0.73      0.73      0.73        22\n",
      "          17       0.37      0.42      0.39        26\n",
      "          18       0.31      0.23      0.26        22\n",
      "          19       0.23      0.22      0.22        23\n",
      "          20       0.17      0.30      0.21        20\n",
      "          21       0.46      0.32      0.38        34\n",
      "          22       0.25      0.20      0.22        20\n",
      "\n",
      "    accuracy                           0.44       500\n",
      "   macro avg       0.47      0.45      0.45       500\n",
      "weighted avg       0.46      0.44      0.44       500\n",
      "\n"
     ]
    }
   ],
   "source": [
    "#baseline GBM\n",
    "\n",
    "baseline = GradientBoostingClassifier(learning_rate=0.1, n_estimators=100,max_depth=3, min_samples_split=2, min_samples_leaf=1, subsample=1,max_features='sqrt', random_state=10)\n",
    "start_time=time.time()\n",
    "baseline.fit(train_features, train_labels)\n",
    "print(\"training  model takes %s seconds\" % round((time.time() - start_time),3))\n",
    "predictors=list(train_features)\n",
    "\n",
    "\n",
    "print('Accuracy of the GBM on test set: {:.3f}'.format(baseline.score(test_features,test_labels)))\n",
    "start_time1 = time.time()\n",
    "pred=baseline.predict(test_features)\n",
    "print(\"testing model takes %s seconds\" % round((time.time() - start_time1),3))\n",
    "print(classification_report(test_labels, pred))"
   ]
  },
  {
   "cell_type": "markdown",
   "metadata": {},
   "source": [
    "### 4. Parameter tuning"
   ]
  },
  {
   "cell_type": "markdown",
   "metadata": {},
   "source": [
    "#### 4.1 parameter tuning Learning_rate,n_estimator"
   ]
  },
  {
   "cell_type": "code",
   "execution_count": 9,
   "metadata": {},
   "outputs": [],
   "source": [
    "#parameter tuning Learning_rate,n_estimator\n",
    "#p_test3 = {'learning_rate':[0.1,0.05], 'n_estimators':[50,100,250,500,750,1000,1250,1500,1750]}\n",
    "\n",
    "#tuning = GridSearchCV(estimator =GradientBoostingClassifier(max_depth=4, min_samples_split=2, min_samples_leaf=1, subsample=1,max_features='sqrt', random_state=10), \n",
    "#                param_grid = p_test3, scoring='accuracy',n_jobs=4,iid=False, cv=5)\n",
    "#tuning.fit(train_features,train_labels)\n",
    "#tuning.cv_results_, tuning.best_params_, tuning.best_score_\n",
    "\n"
   ]
  },
  {
   "cell_type": "markdown",
   "metadata": {},
   "source": [
    "#### 4.2 Tuning Max_depth, Min_samples_split"
   ]
  },
  {
   "cell_type": "code",
   "execution_count": 10,
   "metadata": {},
   "outputs": [],
   "source": [
    "\n",
    "#param_test2 = {'max_depth':range(1,16,2), 'min_samples_split':range(2,102,20)}\n",
    "#tuning2 = GridSearchCV(estimator = GradientBoostingClassifier(learning_rate=0.05, n_estimators=500, max_features='sqrt', subsample=1, random_state=10), \n",
    "#param_grid = param_test2, scoring='accuracy',n_jobs=4,iid=False, cv=5)\n",
    "#tuning2.fit(train_features,train_labels)\n",
    "#tuning2.cv_results_, tuning2.best_params_, tuning2.best_score_\n"
   ]
  },
  {
   "cell_type": "markdown",
   "metadata": {},
   "source": [
    "#### 4.3 Parameter Tuning:min_samples_split,min_samples_leaf"
   ]
  },
  {
   "cell_type": "code",
   "execution_count": 11,
   "metadata": {},
   "outputs": [],
   "source": [
    "#param_test3 = {'min_samples_split':range(2,102,20), 'min_samples_leaf':range(30,71,10)}\n",
    "#tuning3 = GridSearchCV(estimator = GradientBoostingClassifier(learning_rate=0.05, n_estimators=500,max_depth=5,min_samples_split=62,max_features='sqrt', subsample=1, random_state=10), \n",
    "#param_grid = param_test3,scoring='accuracy',n_jobs=4,iid=False, cv=5)\n",
    "#tuning3.fit(train_features, train_labels)\n",
    "#tuning3.cv_results_, tuning3.best_params_, tuning3.best_score_"
   ]
  },
  {
   "cell_type": "markdown",
   "metadata": {},
   "source": [
    "#### 4.4 Parameter Tuning Max_features"
   ]
  },
  {
   "cell_type": "code",
   "execution_count": 12,
   "metadata": {},
   "outputs": [],
   "source": [
    "#param_test4 = {'max_features':range(7,20,2)}\n",
    "#tuning4 = GridSearchCV(estimator = GradientBoostingClassifier(learning_rate=0.05, n_estimators=500,max_depth=5, min_samples_split=62, min_samples_leaf=30, subsample=0.8, random_state=10),\n",
    "#param_grid = param_test4, scoring='accuracy',n_jobs=4,iid=False, cv=5)\n",
    "#tuning4.fit(train_features,train_labels)\n",
    "#tuning4.cv_results_, tuning4.best_params_, tuning4.best_score_"
   ]
  },
  {
   "cell_type": "markdown",
   "metadata": {},
   "source": [
    "#### 4.5 Parameter Tuning Subsample"
   ]
  },
  {
   "cell_type": "code",
   "execution_count": 13,
   "metadata": {
    "scrolled": true
   },
   "outputs": [],
   "source": [
    "#param_test5 = {'subsample':[0.6,0.7,0.75,0.8,0.85,0.9,1.0]}\n",
    "#tuning5 = GridSearchCV(estimator = GradientBoostingClassifier(learning_rate=0.05, n_estimators=500,max_depth=5,min_samples_split=62, min_samples_leaf=30,random_state=10,max_features='sqrt'),\n",
    "#param_grid = param_test5, scoring='accuracy',n_jobs=4,iid=False, cv=5)\n",
    "#tuning5.fit(train_features,train_labels)\n",
    "#tuning5.cv_results_, tuning5.best_params_, tuning5.best_score_"
   ]
  },
  {
   "cell_type": "markdown",
   "metadata": {},
   "source": [
    "### 5. Final Parameter set at: learning_rate=0.05, n_estimators=500,max_depth=5,min_samples_split=62, min_samples_leaf=30,random_state=10,max_features='sqrt',subsample=1.0"
   ]
  },
  {
   "cell_type": "code",
   "execution_count": 19,
   "metadata": {},
   "outputs": [
    {
     "name": "stdout",
     "output_type": "stream",
     "text": [
      "training  model takes 282.097 seconds\n",
      "Accuracy of the GBM on test set: 0.486\n",
      "testing model takes 0.358 seconds\n",
      "              precision    recall  f1-score   support\n",
      "\n",
      "           1       0.57      0.72      0.63        18\n",
      "           2       0.70      0.84      0.76        19\n",
      "           3       0.41      0.52      0.46        25\n",
      "           4       0.43      0.57      0.49        21\n",
      "           5       0.57      0.72      0.63        18\n",
      "           6       0.72      0.50      0.59        26\n",
      "           7       0.58      0.55      0.56        20\n",
      "           8       0.75      0.75      0.75        16\n",
      "           9       0.80      0.64      0.71        25\n",
      "          10       0.41      0.45      0.43        20\n",
      "          11       0.48      0.67      0.56        24\n",
      "          12       0.44      0.34      0.39        32\n",
      "          13       0.22      0.21      0.21        24\n",
      "          14       0.52      0.65      0.58        23\n",
      "          15       0.61      0.50      0.55        22\n",
      "          16       0.80      0.73      0.76        22\n",
      "          17       0.29      0.31      0.30        26\n",
      "          18       0.26      0.23      0.24        22\n",
      "          19       0.26      0.26      0.26        23\n",
      "          20       0.24      0.30      0.27        20\n",
      "          21       0.52      0.38      0.44        34\n",
      "          22       0.38      0.15      0.21        20\n",
      "\n",
      "    accuracy                           0.49       500\n",
      "   macro avg       0.50      0.50      0.49       500\n",
      "weighted avg       0.49      0.49      0.48       500\n",
      "\n"
     ]
    }
   ],
   "source": [
    "baseline_tune=GradientBoostingClassifier(learning_rate=0.05, n_estimators=500,max_depth=5,min_samples_split=62, min_samples_leaf=30,random_state=10,max_features='sqrt',subsample=1.0)\n",
    "start_time=time.time()\n",
    "baseline_tune.fit(train_features, train_labels)\n",
    "print(\"training  model takes %s seconds\" % round((time.time() - start_time),3))\n",
    "predictors=list(train_features)\n",
    "\n",
    "print('Accuracy of the GBM on test set: {:.3f}'.format(baseline_tune.score(test_features,test_labels)))\n",
    "start_time1 = time.time()\n",
    "pred=baseline_tune.predict(test_features)\n",
    "print(\"testing model takes %s seconds\" % round((time.time() - start_time1),3))\n",
    "print(classification_report(test_labels, pred))"
   ]
  },
  {
   "cell_type": "markdown",
   "metadata": {},
   "source": [
    "### Increase accuracy from 0.440 to 0.486 after tuning"
   ]
  },
  {
   "cell_type": "markdown",
   "metadata": {},
   "source": [
    "# Part II  Advanced Model: Densely-connected Neural Networks\n",
    "\n",
    "__Procedure__\n",
    "\n",
    "BatchNorm -> Densely-connected NN -> ReLu -> Dropout -> BatchNorm -> Densely-connected NN -> ReLu -> Dropout -> Densely-connected NN -> ReLu -> Dropout -> Densely-connected NN -> ReLu -> Densely-connected NN -> Softmax -> Output"
   ]
  },
  {
   "cell_type": "markdown",
   "metadata": {},
   "source": [
    "### 1. Provide directories for training/testing images."
   ]
  },
  {
   "cell_type": "code",
   "execution_count": 3,
   "metadata": {},
   "outputs": [],
   "source": [
    "\"\"\"\n",
    "Path\n",
    "\"\"\"\n",
    "DATA_PATH = \"../data/train_set\"\n",
    "POINTS_FOLDER = os.path.join(DATA_PATH, \"points\")\n",
    "LABELS_FOLDER = DATA_PATH"
   ]
  },
  {
   "cell_type": "markdown",
   "metadata": {},
   "source": [
    "###  2. Train/Test Split Feature Extraction"
   ]
  },
  {
   "cell_type": "code",
   "execution_count": 4,
   "metadata": {},
   "outputs": [
    {
     "name": "stdout",
     "output_type": "stream",
     "text": [
      "Feature Extraction time on training set: 0.0984201431274414 seconds\n",
      "Feature Extraction time on test set: 0.026224851608276367 seconds\n"
     ]
    }
   ],
   "source": [
    "def read_labels():\n",
    "    labels_df = pd.read_csv(os.path.join(LABELS_FOLDER, 'label.csv'))\n",
    "    labels_df = labels_df.loc[:,['emotion_idx','emotion_cat','type']]\n",
    "    return labels_df\n",
    "\n",
    "def read_points():\n",
    "    files = [file for file in os.listdir(POINTS_FOLDER) if file.endswith('.mat')]\n",
    "    files.sort()\n",
    "    \n",
    "    face_points = np.zeros((len(files), 78, 2))\n",
    "    for index, filename in enumerate(files):\n",
    "        face_points_dict = loadmat(os.path.join(POINTS_FOLDER, filename))\n",
    "    \n",
    "        face_points[index] = face_points_dict.get('faceCoordinatesUnwarped',  face_points_dict.get('faceCoordinates2'))\n",
    "    return face_points\n",
    "\n",
    "points = read_points()\n",
    "labels = read_labels()\n",
    "\n",
    "### train test split\n",
    "X_points_train, X_points_test, y_train, y_test = train_test_split(points,labels,test_size=0.2, random_state=666)\n",
    "\n",
    "### Feature Extraction time on training set:\n",
    "feature_training_start = time.time()\n",
    "X_train = np.zeros((X_points_train.shape[0], 3003))\n",
    "for i in range(X_points_train.shape[0]):\n",
    "    current = X_points_train[i]\n",
    "    X_train[i,] = pdist(current)\n",
    "feature_training_end = time.time()\n",
    "y_train = y_train['emotion_idx']\n",
    "y_train = to_categorical(y_train)[:,1:]\n",
    "print(\"Feature Extraction time on training set:\",\"%s seconds\"%(feature_training_end - feature_training_start))\n",
    "    \n",
    "### Feature Extraction time on test set:\n",
    "feature_test_start = time.time()\n",
    "X_test = np.zeros((X_points_test.shape[0], 3003))\n",
    "for i in range(X_points_test.shape[0]):\n",
    "    current = X_points_test[i]\n",
    "    X_test[i,] = pdist(current)\n",
    "feature_test_end = time.time()\n",
    "y_test = y_test['emotion_idx']\n",
    "y_test = to_categorical(y_test)[:,1:]\n",
    "print(\"Feature Extraction time on test set:\",\"%s seconds\"%(feature_test_end - feature_test_start))"
   ]
  },
  {
   "cell_type": "markdown",
   "metadata": {},
   "source": [
    "### 3. Train model"
   ]
  },
  {
   "cell_type": "code",
   "execution_count": 5,
   "metadata": {},
   "outputs": [],
   "source": [
    "input_shape = [3003] \n",
    "input_layer = Input(input_shape)\n",
    "x = BatchNormalization(momentum = 0.88)(input_layer) \n",
    "x = Dense(22*10,activation='relu',kernel_initializer=initializers.glorot_normal(seed=4))(x)\n",
    "x = Dropout(0.25)(x)\n",
    "x = BatchNormalization()(x) \n",
    "x = Dense(22*8,activation='relu',kernel_initializer=initializers.glorot_normal(seed=4))(x)\n",
    "x = Dropout(0.25)(x)\n",
    "x = Dense(22*4,activation='relu',kernel_initializer=initializers.glorot_normal(seed=4))(x)\n",
    "x = Dropout(0.25)(x)\n",
    "x = Dense(22*2,activation='relu',kernel_initializer=initializers.glorot_normal(seed=4))(x)\n",
    "output_layer = Dense(22,activation='softmax',kernel_initializer=initializers.glorot_normal(seed=4))(x) \n",
    "model2 = Model(input_layer,output_layer)"
   ]
  },
  {
   "cell_type": "code",
   "execution_count": 6,
   "metadata": {},
   "outputs": [
    {
     "name": "stdout",
     "output_type": "stream",
     "text": [
      "Train on 2000 samples, validate on 500 samples\n",
      "Epoch 1/40\n",
      "2000/2000 [==============================] - 11s 6ms/step - loss: 3.0909 - accuracy: 0.0745 - val_loss: 2.8831 - val_accuracy: 0.1280\n",
      "Epoch 2/40\n",
      "2000/2000 [==============================] - 3s 2ms/step - loss: 2.7894 - accuracy: 0.1450 - val_loss: 2.5699 - val_accuracy: 0.1820\n",
      "Epoch 3/40\n",
      "2000/2000 [==============================] - 3s 2ms/step - loss: 2.4786 - accuracy: 0.2215 - val_loss: 2.1691 - val_accuracy: 0.2880\n",
      "Epoch 4/40\n",
      "2000/2000 [==============================] - 4s 2ms/step - loss: 2.2981 - accuracy: 0.2600 - val_loss: 2.0427 - val_accuracy: 0.3080\n",
      "Epoch 5/40\n",
      "2000/2000 [==============================] - 4s 2ms/step - loss: 2.1345 - accuracy: 0.2895 - val_loss: 1.8898 - val_accuracy: 0.3800\n",
      "Epoch 6/40\n",
      "2000/2000 [==============================] - 4s 2ms/step - loss: 2.0055 - accuracy: 0.3040 - val_loss: 1.8210 - val_accuracy: 0.3620\n",
      "Epoch 7/40\n",
      "2000/2000 [==============================] - 4s 2ms/step - loss: 1.9362 - accuracy: 0.3310 - val_loss: 1.7562 - val_accuracy: 0.3840\n",
      "Epoch 8/40\n",
      "2000/2000 [==============================] - 4s 2ms/step - loss: 1.8543 - accuracy: 0.3705 - val_loss: 1.6571 - val_accuracy: 0.4320\n",
      "Epoch 9/40\n",
      "2000/2000 [==============================] - 3s 2ms/step - loss: 1.7891 - accuracy: 0.3830 - val_loss: 1.6187 - val_accuracy: 0.4100\n",
      "Epoch 10/40\n",
      "2000/2000 [==============================] - 4s 2ms/step - loss: 1.8106 - accuracy: 0.3845 - val_loss: 1.6062 - val_accuracy: 0.4460\n",
      "Epoch 11/40\n",
      "2000/2000 [==============================] - 4s 2ms/step - loss: 1.6791 - accuracy: 0.4455 - val_loss: 1.5587 - val_accuracy: 0.4740\n",
      "Epoch 12/40\n",
      "2000/2000 [==============================] - 4s 2ms/step - loss: 1.6583 - accuracy: 0.4335 - val_loss: 1.5786 - val_accuracy: 0.4380\n",
      "Epoch 13/40\n",
      "2000/2000 [==============================] - 3s 2ms/step - loss: 1.6121 - accuracy: 0.4470 - val_loss: 1.5002 - val_accuracy: 0.4920\n",
      "Epoch 14/40\n",
      "2000/2000 [==============================] - 4s 2ms/step - loss: 1.5910 - accuracy: 0.4515 - val_loss: 1.5508 - val_accuracy: 0.4800\n",
      "Epoch 15/40\n",
      "2000/2000 [==============================] - 4s 2ms/step - loss: 1.5545 - accuracy: 0.4780 - val_loss: 1.5120 - val_accuracy: 0.5020\n",
      "Epoch 16/40\n",
      "2000/2000 [==============================] - 3s 2ms/step - loss: 1.5371 - accuracy: 0.4740 - val_loss: 1.4611 - val_accuracy: 0.4800\n",
      "Epoch 17/40\n",
      "2000/2000 [==============================] - 4s 2ms/step - loss: 1.5343 - accuracy: 0.4810 - val_loss: 1.4801 - val_accuracy: 0.5060\n",
      "Epoch 18/40\n",
      "2000/2000 [==============================] - 4s 2ms/step - loss: 1.4862 - accuracy: 0.4930 - val_loss: 1.4538 - val_accuracy: 0.5200\n",
      "Epoch 19/40\n",
      "2000/2000 [==============================] - 3s 2ms/step - loss: 1.4885 - accuracy: 0.4935 - val_loss: 1.4841 - val_accuracy: 0.5020\n",
      "Epoch 20/40\n",
      "2000/2000 [==============================] - 3s 1ms/step - loss: 1.4582 - accuracy: 0.5155 - val_loss: 1.4644 - val_accuracy: 0.4960\n",
      "Epoch 21/40\n",
      "2000/2000 [==============================] - 4s 2ms/step - loss: 1.4012 - accuracy: 0.5200 - val_loss: 1.5052 - val_accuracy: 0.4720\n",
      "Epoch 22/40\n",
      "2000/2000 [==============================] - 4s 2ms/step - loss: 1.3938 - accuracy: 0.5155 - val_loss: 1.4515 - val_accuracy: 0.5200\n",
      "Epoch 23/40\n",
      "2000/2000 [==============================] - 4s 2ms/step - loss: 1.3690 - accuracy: 0.5350 - val_loss: 1.3926 - val_accuracy: 0.5120\n",
      "Epoch 24/40\n",
      "2000/2000 [==============================] - 4s 2ms/step - loss: 1.3682 - accuracy: 0.5395 - val_loss: 1.3942 - val_accuracy: 0.5260\n",
      "Epoch 25/40\n",
      "2000/2000 [==============================] - 5s 2ms/step - loss: 1.3361 - accuracy: 0.5460 - val_loss: 1.4021 - val_accuracy: 0.5360\n",
      "Epoch 26/40\n",
      "2000/2000 [==============================] - 4s 2ms/step - loss: 1.3434 - accuracy: 0.5355 - val_loss: 1.4091 - val_accuracy: 0.5220\n",
      "Epoch 27/40\n",
      "2000/2000 [==============================] - 3s 2ms/step - loss: 1.3059 - accuracy: 0.5390 - val_loss: 1.4268 - val_accuracy: 0.5260\n",
      "Epoch 28/40\n",
      "2000/2000 [==============================] - 4s 2ms/step - loss: 1.2742 - accuracy: 0.5600 - val_loss: 1.4122 - val_accuracy: 0.5260\n",
      "Epoch 29/40\n",
      "2000/2000 [==============================] - 4s 2ms/step - loss: 1.2681 - accuracy: 0.5700 - val_loss: 1.3886 - val_accuracy: 0.5200\n",
      "Epoch 30/40\n",
      "2000/2000 [==============================] - 4s 2ms/step - loss: 1.2435 - accuracy: 0.5820 - val_loss: 1.4358 - val_accuracy: 0.5220\n",
      "Epoch 31/40\n",
      "2000/2000 [==============================] - 4s 2ms/step - loss: 1.2800 - accuracy: 0.5715 - val_loss: 1.3830 - val_accuracy: 0.5280\n",
      "Epoch 32/40\n",
      "2000/2000 [==============================] - 4s 2ms/step - loss: 1.2505 - accuracy: 0.5670 - val_loss: 1.3526 - val_accuracy: 0.5280\n",
      "Epoch 33/40\n",
      "2000/2000 [==============================] - 4s 2ms/step - loss: 1.2514 - accuracy: 0.5840 - val_loss: 1.3533 - val_accuracy: 0.5260\n",
      "Epoch 34/40\n",
      "2000/2000 [==============================] - 3s 1ms/step - loss: 1.1825 - accuracy: 0.5890 - val_loss: 1.3739 - val_accuracy: 0.5300\n",
      "Epoch 35/40\n",
      "2000/2000 [==============================] - 4s 2ms/step - loss: 1.2138 - accuracy: 0.5755 - val_loss: 1.4148 - val_accuracy: 0.5480\n",
      "Epoch 36/40\n",
      "2000/2000 [==============================] - 4s 2ms/step - loss: 1.1915 - accuracy: 0.5885 - val_loss: 1.3319 - val_accuracy: 0.5320\n",
      "Epoch 37/40\n",
      "2000/2000 [==============================] - 3s 2ms/step - loss: 1.1862 - accuracy: 0.5905 - val_loss: 1.3199 - val_accuracy: 0.5440\n",
      "Epoch 38/40\n",
      "2000/2000 [==============================] - 3s 2ms/step - loss: 1.1417 - accuracy: 0.6035 - val_loss: 1.3572 - val_accuracy: 0.5440\n",
      "Epoch 39/40\n",
      "2000/2000 [==============================] - 4s 2ms/step - loss: 1.1625 - accuracy: 0.5970 - val_loss: 1.4254 - val_accuracy: 0.5200\n",
      "Epoch 40/40\n",
      "2000/2000 [==============================] - 4s 2ms/step - loss: 1.1474 - accuracy: 0.6155 - val_loss: 1.4307 - val_accuracy: 0.5400\n",
      "training  model takes 158.948 seconds\n"
     ]
    }
   ],
   "source": [
    "start_time = time.time()\n",
    "model2.compile(loss='categorical_crossentropy',optimizer = Adam(lr=0.001),metrics=['accuracy'])\n",
    "model_history = model2.fit(X_train,y_train,epochs = 40,validation_data=[X_test,y_test])\n",
    "print(\"training  model takes %s seconds\" % round((time.time() - start_time),3))"
   ]
  },
  {
   "cell_type": "code",
   "execution_count": 7,
   "metadata": {},
   "outputs": [
    {
     "data": {
      "text/plain": [
       "Text(0.5, 1.0, 'Accuracy Curves')"
      ]
     },
     "execution_count": 7,
     "metadata": {},
     "output_type": "execute_result"
    },
    {
     "data": {
      "image/png": "[encoded data removed]",
      "text/plain": [
       "<Figure size 864x576 with 1 Axes>"
      ]
     },
     "metadata": {
      "needs_background": "light"
     },
     "output_type": "display_data"
    }
   ],
   "source": [
    "fig, ax = plt.subplots(figsize=[12,8])\n",
    "ax.plot(model_history.history['accuracy'],'r',linewidth=1.0, label = 'Training Accuracy')\n",
    "ax.legend()\n",
    "plt.xlabel('Epochs ',fontsize=16)\n",
    "plt.ylabel('Accuracy',fontsize=16)\n",
    "plt.title('Accuracy Curves',fontsize=16)"
   ]
  },
  {
   "cell_type": "markdown",
   "metadata": {},
   "source": [
    "### 4. Test accuracy"
   ]
  },
  {
   "cell_type": "code",
   "execution_count": 8,
   "metadata": {},
   "outputs": [
    {
     "name": "stdout",
     "output_type": "stream",
     "text": [
      "500/500 [==============================] - 0s 456us/step\n",
      "Loss = 1.4307443332672118\n",
      "Test Accuracy = 0.5400000214576721\n"
     ]
    }
   ],
   "source": [
    "preds = model2.evaluate(X_test, y_test)\n",
    "print (\"Loss = \" + str(preds[0]))\n",
    "print (\"Test Accuracy = \" + str(preds[1]))"
   ]
  },
  {
   "cell_type": "markdown",
   "metadata": {},
   "source": [
    "### 5. Predicted label"
   ]
  },
  {
   "cell_type": "code",
   "execution_count": 9,
   "metadata": {},
   "outputs": [
    {
     "name": "stdout",
     "output_type": "stream",
     "text": [
      "Feature Extraction time on test set: 0.17246484756469727 seconds\n"
     ]
    }
   ],
   "source": [
    "predict_DATA_PATH = \"../data/test_set_predict\"\n",
    "POINTS_FOLDER = os.path.join(predict_DATA_PATH, \"points\")\n",
    "\n",
    "predict_points = read_points()\n",
    "\n",
    "predict_start = time.time()\n",
    "X_predict = np.zeros((predict_points.shape[0], 3003))\n",
    "for i in range(predict_points.shape[0]):\n",
    "    current = predict_points[i]\n",
    "    X_predict[i,] = pdist(current)\n",
    "predict_end = time.time()\n",
    "print(\"Feature Extraction time on test set:\",\"%s seconds\"%(predict_end - predict_start))\n"
   ]
  },
  {
   "cell_type": "code",
   "execution_count": 27,
   "metadata": {},
   "outputs": [],
   "source": [
    "y_predict = []\n",
    "for i in model2.predict(X_predict):\n",
    "    y_predict.append(np.argmax(i) + 1)"
   ]
  },
  {
   "cell_type": "code",
   "execution_count": 12,
   "metadata": {},
   "outputs": [],
   "source": [
    "df_advance = pd.DataFrame(data = y_predict)\n",
    "df_advance.to_csv('../output/baseline_prediction.csv')"
   ]
  },
  {
   "cell_type": "code",
   "execution_count": 25,
   "metadata": {},
   "outputs": [],
   "source": [
    "df_baseline = pd.DataFrame(data = baseline_tune.predict(X_predict)) \n",
    "df_baseline.to_csv('../output/baseline_prediction1.csv')"
   ]
  }
 ],
 "metadata": {
  "kernelspec": {
   "display_name": "Python 3",
   "language": "python",
   "name": "python3"
  },
  "language_info": {
   "codemirror_mode": {
    "name": "ipython",
    "version": 3
   },
   "file_extension": ".py",
   "mimetype": "text/x-python",
   "name": "python",
   "nbconvert_exporter": "python",
   "pygments_lexer": "ipython3",
   "version": "3.7.4"
  }
 },
 "nbformat": 4,
 "nbformat_minor": 2
}
