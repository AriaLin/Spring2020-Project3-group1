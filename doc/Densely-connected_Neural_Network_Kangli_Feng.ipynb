{
 "cells": [
  {
   "cell_type": "markdown",
   "metadata": {},
   "source": [
    "# Densely-connected Neural Network Implementation "
   ]
  },
  {
   "cell_type": "markdown",
   "metadata": {},
   "source": [
    "### 1. Load required packages"
   ]
  },
  {
   "cell_type": "code",
   "execution_count": 11,
   "metadata": {},
   "outputs": [],
   "source": [
    "import os,sys\n",
    "import pandas as pd\n",
    "from sklearn.model_selection import train_test_split\n",
    "import scipy.io\n",
    "import numpy as np \n",
    "from scipy.spatial.distance import pdist\n",
    "import time \n",
    "import math\n",
    "from sklearn.metrics import accuracy_score\n",
    "from sklearn.model_selection import GridSearchCV\n",
    "import keras\n",
    "from keras.utils import to_categorical\n",
    "import matplotlib.pyplot as plt\n",
    "from tensorflow.keras.models import Sequential\n",
    "from keras.layers import Dense, Activation, Flatten, Input, Dropout\n",
    "from keras.layers import BatchNormalization\n",
    "from keras.models import Model\n",
    "from keras import initializers\n",
    "from keras.optimizers import Adam\n",
    "from keras.utils import to_categorical"
   ]
  },
  {
   "cell_type": "markdown",
   "metadata": {},
   "source": [
    "### 2. Load data and split"
   ]
  },
  {
   "cell_type": "code",
   "execution_count": 12,
   "metadata": {},
   "outputs": [],
   "source": [
    "path = '/Users/ConleyFKL/Desktop/Spring2020-Project3-ads-spring2020-project3-group1-master/data/'\n",
    "dat_full = pd.read_csv(path + \"dat_full.csv\")\n",
    "X = dat_full.loc[:, 'feature1' : 'feature6006']\n",
    "y = dat_full['emotion_idx']\n",
    "Y = to_categorical(y)[:,1:]"
   ]
  },
  {
   "cell_type": "code",
   "execution_count": 18,
   "metadata": {},
   "outputs": [],
   "source": [
    "X_train,X_test,y_train,y_test = train_test_split(X,Y,test_size=0.2,random_state=666)"
   ]
  },
  {
   "cell_type": "markdown",
   "metadata": {},
   "source": [
    "<font color='purple'>  : **Vanishing gradient** <br> The speed of learning decreases very rapidly for the shallower layers as the network trains"
   ]
  },
  {
   "cell_type": "markdown",
   "metadata": {},
   "source": [
    "<font color='purple'> **Note:**\n",
    "    \n",
    "Test three models with same structure but with slightly different hyperparameter settings. (units in each Densely-connected NN layer)"
   ]
  },
  {
   "attachments": {},
   "cell_type": "markdown",
   "metadata": {},
   "source": [
    "### 3. Model 1\n",
    "\n",
    "__Procedure__\n",
    "\n",
    "BatchNorm -> Densely-connected NN -> ReLu -> Dropout -> BatchNorm -> Densely-connected NN -> ReLu -> Dropout -> Densely-connected NN -> ReLu -> Dropout -> Densely-connected NN -> ReLu -> Densely-connected NN -> Softmax -> Output"
   ]
  },
  {
   "cell_type": "code",
   "execution_count": 43,
   "metadata": {},
   "outputs": [],
   "source": [
    "input_shape = [6006] \n",
    "input_layer = Input(input_shape)\n",
    "x = BatchNormalization()(input_layer) \n",
    "x = Dense(22*20,activation='relu',kernel_initializer=initializers.glorot_normal(seed=4))(x)\n",
    "x = Dropout(0.25)(x)\n",
    "x = BatchNormalization()(x) \n",
    "x = Dense(22*10,activation='relu',kernel_initializer=initializers.glorot_normal(seed=4))(x)\n",
    "x = Dropout(0.25)(x)\n",
    "x = Dense(22*6,activation='relu',kernel_initializer=initializers.glorot_normal(seed=4))(x)\n",
    "x = Dropout(0.25)(x)\n",
    "x = Dense(22*2,activation='relu',kernel_initializer=initializers.glorot_normal(seed=4))(x)\n",
    "output_layer = Dense(22,activation='softmax',kernel_initializer=initializers.glorot_normal(seed=4))(x) \n",
    "model = Model(input_layer,output_layer)"
   ]
  },
  {
   "cell_type": "code",
   "execution_count": 44,
   "metadata": {},
   "outputs": [
    {
     "name": "stdout",
     "output_type": "stream",
     "text": [
      "Train on 2000 samples, validate on 500 samples\n",
      "Epoch 1/30\n",
      "2000/2000 [==============================] - 11s 6ms/step - loss: 3.0666 - accuracy: 0.0930 - val_loss: 4.5969 - val_accuracy: 0.0760\n",
      "Epoch 2/30\n",
      "2000/2000 [==============================] - 7s 3ms/step - loss: 2.6207 - accuracy: 0.1905 - val_loss: 2.9982 - val_accuracy: 0.1660\n",
      "Epoch 3/30\n",
      "2000/2000 [==============================] - 8s 4ms/step - loss: 2.3283 - accuracy: 0.2505 - val_loss: 2.0983 - val_accuracy: 0.3080\n",
      "Epoch 4/30\n",
      "2000/2000 [==============================] - 9s 4ms/step - loss: 2.1220 - accuracy: 0.3205 - val_loss: 1.8999 - val_accuracy: 0.3460\n",
      "Epoch 5/30\n",
      "2000/2000 [==============================] - 8s 4ms/step - loss: 1.9752 - accuracy: 0.3385 - val_loss: 1.7377 - val_accuracy: 0.4040\n",
      "Epoch 6/30\n",
      "2000/2000 [==============================] - 8s 4ms/step - loss: 1.8607 - accuracy: 0.3755 - val_loss: 1.7766 - val_accuracy: 0.3800\n",
      "Epoch 7/30\n",
      "2000/2000 [==============================] - 8s 4ms/step - loss: 1.8163 - accuracy: 0.3890 - val_loss: 1.6470 - val_accuracy: 0.4620\n",
      "Epoch 8/30\n",
      "2000/2000 [==============================] - 8s 4ms/step - loss: 1.6964 - accuracy: 0.4275 - val_loss: 1.6035 - val_accuracy: 0.4640\n",
      "Epoch 9/30\n",
      "2000/2000 [==============================] - 8s 4ms/step - loss: 1.6455 - accuracy: 0.4530 - val_loss: 1.5114 - val_accuracy: 0.4940\n",
      "Epoch 10/30\n",
      "2000/2000 [==============================] - 8s 4ms/step - loss: 1.5510 - accuracy: 0.4605 - val_loss: 1.5001 - val_accuracy: 0.4860\n",
      "Epoch 11/30\n",
      "2000/2000 [==============================] - 8s 4ms/step - loss: 1.4751 - accuracy: 0.5095 - val_loss: 1.4794 - val_accuracy: 0.4700\n",
      "Epoch 12/30\n",
      "2000/2000 [==============================] - 8s 4ms/step - loss: 1.4453 - accuracy: 0.5125 - val_loss: 1.4692 - val_accuracy: 0.5020\n",
      "Epoch 13/30\n",
      "2000/2000 [==============================] - 8s 4ms/step - loss: 1.4148 - accuracy: 0.5130 - val_loss: 1.4340 - val_accuracy: 0.5140\n",
      "Epoch 14/30\n",
      "2000/2000 [==============================] - 8s 4ms/step - loss: 1.3651 - accuracy: 0.5320 - val_loss: 1.4555 - val_accuracy: 0.5160\n",
      "Epoch 15/30\n",
      "2000/2000 [==============================] - 9s 4ms/step - loss: 1.3113 - accuracy: 0.5485 - val_loss: 1.4328 - val_accuracy: 0.5100\n",
      "Epoch 16/30\n",
      "2000/2000 [==============================] - 8s 4ms/step - loss: 1.2621 - accuracy: 0.5520 - val_loss: 1.4582 - val_accuracy: 0.5100\n",
      "Epoch 17/30\n",
      "2000/2000 [==============================] - 8s 4ms/step - loss: 1.2698 - accuracy: 0.5535 - val_loss: 1.4222 - val_accuracy: 0.5240\n",
      "Epoch 18/30\n",
      "2000/2000 [==============================] - 9s 4ms/step - loss: 1.1920 - accuracy: 0.6005 - val_loss: 1.3850 - val_accuracy: 0.5180\n",
      "Epoch 19/30\n",
      "2000/2000 [==============================] - 8s 4ms/step - loss: 1.1703 - accuracy: 0.5915 - val_loss: 1.4034 - val_accuracy: 0.5320\n",
      "Epoch 20/30\n",
      "2000/2000 [==============================] - 9s 4ms/step - loss: 1.1424 - accuracy: 0.6010 - val_loss: 1.4295 - val_accuracy: 0.5140\n",
      "Epoch 21/30\n",
      "2000/2000 [==============================] - 8s 4ms/step - loss: 1.0883 - accuracy: 0.6205 - val_loss: 1.4040 - val_accuracy: 0.5360\n",
      "Epoch 22/30\n",
      "2000/2000 [==============================] - 9s 4ms/step - loss: 1.0583 - accuracy: 0.6305 - val_loss: 1.4243 - val_accuracy: 0.5300\n",
      "Epoch 23/30\n",
      "2000/2000 [==============================] - 9s 5ms/step - loss: 1.1065 - accuracy: 0.6130 - val_loss: 1.3534 - val_accuracy: 0.5380\n",
      "Epoch 24/30\n",
      "2000/2000 [==============================] - 9s 5ms/step - loss: 1.0072 - accuracy: 0.6535 - val_loss: 1.3395 - val_accuracy: 0.5340\n",
      "Epoch 25/30\n",
      "2000/2000 [==============================] - 10s 5ms/step - loss: 0.9940 - accuracy: 0.6425 - val_loss: 1.4210 - val_accuracy: 0.5460\n",
      "Epoch 26/30\n",
      "2000/2000 [==============================] - 8s 4ms/step - loss: 1.0017 - accuracy: 0.6745 - val_loss: 1.3115 - val_accuracy: 0.5620\n",
      "Epoch 27/30\n",
      "2000/2000 [==============================] - 8s 4ms/step - loss: 0.9818 - accuracy: 0.6655 - val_loss: 1.3143 - val_accuracy: 0.5700\n",
      "Epoch 28/30\n",
      "2000/2000 [==============================] - 8s 4ms/step - loss: 0.9099 - accuracy: 0.6760 - val_loss: 1.4253 - val_accuracy: 0.5700\n",
      "Epoch 29/30\n",
      "2000/2000 [==============================] - 9s 5ms/step - loss: 0.8920 - accuracy: 0.6865 - val_loss: 1.4407 - val_accuracy: 0.5360\n",
      "Epoch 30/30\n",
      "2000/2000 [==============================] - 9s 4ms/step - loss: 0.9039 - accuracy: 0.6735 - val_loss: 1.3761 - val_accuracy: 0.5680\n",
      "training  model takes 256.865 seconds\n"
     ]
    }
   ],
   "source": [
    "start_time = time.time()\n",
    "model.compile(loss='categorical_crossentropy',optimizer = Adam(lr=0.001),metrics=['accuracy'])\n",
    "model_history = model.fit(X_train,y_train,epochs = 30, validation_data=[X_test,y_test])\n",
    "print(\"training  model takes %s seconds\" % round((time.time() - start_time),3))"
   ]
  },
  {
   "cell_type": "code",
   "execution_count": 46,
   "metadata": {},
   "outputs": [
    {
     "data": {
      "text/plain": [
       "Text(0.5, 1.0, 'Accuracy Curves')"
      ]
     },
     "execution_count": 46,
     "metadata": {},
     "output_type": "execute_result"
    },
    {
     "data": {
      "image/png": "[encoded data removed]",
      "text/plain": [
       "<Figure size 864x576 with 1 Axes>"
      ]
     },
     "metadata": {
      "needs_background": "light"
     },
     "output_type": "display_data"
    }
   ],
   "source": [
    "fig, ax = plt.subplots(figsize=[12,8])\n",
    "ax.plot(model_history.history['accuracy'],'r',linewidth=1.0, label = 'Training Accuracy')\n",
    "ax.plot(model_history.history['val_accuracy'],'b',linewidth=1.0, label = 'Test Accuracy')\n",
    "ax.legend()\n",
    "plt.xlabel('Epochs ',fontsize=16)\n",
    "plt.ylabel('Accuracy',fontsize=16)\n",
    "plt.title('Accuracy Curves',fontsize=16)"
   ]
  },
  {
   "cell_type": "code",
   "execution_count": 47,
   "metadata": {},
   "outputs": [
    {
     "name": "stdout",
     "output_type": "stream",
     "text": [
      "500/500 [==============================] - 0s 623us/step\n",
      "Loss = 1.376056674003601\n",
      "Test Accuracy = 0.5680000185966492\n"
     ]
    }
   ],
   "source": [
    "preds = model.evaluate(X_test, y_test)\n",
    "print (\"Loss = \" + str(preds[0]))\n",
    "print (\"Test Accuracy = \" + str(preds[1]))"
   ]
  },
  {
   "cell_type": "markdown",
   "metadata": {},
   "source": [
    "### 4. Model 2\n",
    "\n",
    "__Procedure__\n",
    "\n",
    "BatchNorm -> Densely-connected NN -> ReLu -> Dropout -> BatchNorm -> Densely-connected NN -> ReLu -> Dropout -> Densely-connected NN -> ReLu -> Dropout -> Densely-connected NN -> ReLu -> Densely-connected NN -> Softmax -> Output"
   ]
  },
  {
   "cell_type": "code",
   "execution_count": 19,
   "metadata": {},
   "outputs": [],
   "source": [
    "input_shape = [6006] \n",
    "input_layer = Input(input_shape)\n",
    "x = BatchNormalization(momentum = 0.88)(input_layer) \n",
    "x = Dense(22*10,activation='relu',kernel_initializer=initializers.glorot_normal(seed=4))(x)\n",
    "x = Dropout(0.25)(x)\n",
    "x = BatchNormalization()(x) \n",
    "x = Dense(22*8,activation='relu',kernel_initializer=initializers.glorot_normal(seed=4))(x)\n",
    "x = Dropout(0.25)(x)\n",
    "x = Dense(22*4,activation='relu',kernel_initializer=initializers.glorot_normal(seed=4))(x)\n",
    "x = Dropout(0.25)(x)\n",
    "x = Dense(22*2,activation='relu',kernel_initializer=initializers.glorot_normal(seed=4))(x)\n",
    "output_layer = Dense(22,activation='softmax',kernel_initializer=initializers.glorot_normal(seed=4))(x) \n",
    "model2 = Model(input_layer,output_layer)"
   ]
  },
  {
   "cell_type": "code",
   "execution_count": 20,
   "metadata": {},
   "outputs": [
    {
     "name": "stdout",
     "output_type": "stream",
     "text": [
      "Epoch 1/30\n",
      "2000/2000 [==============================] - 7s 4ms/step - loss: 3.0321 - accuracy: 0.0795: \n",
      "Epoch 2/30\n",
      "2000/2000 [==============================] - 4s 2ms/step - loss: 2.7016 - accuracy: 0.1640\n",
      "Epoch 3/30\n",
      "2000/2000 [==============================] - 5s 2ms/step - loss: 2.3650 - accuracy: 0.2305\n",
      "Epoch 4/30\n",
      "2000/2000 [==============================] - 4s 2ms/step - loss: 2.1604 - accuracy: 0.2845\n",
      "Epoch 5/30\n",
      "2000/2000 [==============================] - 4s 2ms/step - loss: 2.0130 - accuracy: 0.3115\n",
      "Epoch 6/30\n",
      "2000/2000 [==============================] - 4s 2ms/step - loss: 1.9215 - accuracy: 0.3335\n",
      "Epoch 7/30\n",
      "2000/2000 [==============================] - 4s 2ms/step - loss: 1.8120 - accuracy: 0.3885\n",
      "Epoch 8/30\n",
      "2000/2000 [==============================] - 4s 2ms/step - loss: 1.7596 - accuracy: 0.4005\n",
      "Epoch 9/30\n",
      "2000/2000 [==============================] - 4s 2ms/step - loss: 1.6843 - accuracy: 0.4295\n",
      "Epoch 10/30\n",
      "2000/2000 [==============================] - 4s 2ms/step - loss: 1.6244 - accuracy: 0.4415\n",
      "Epoch 11/30\n",
      "2000/2000 [==============================] - 4s 2ms/step - loss: 1.5691 - accuracy: 0.4630\n",
      "Epoch 12/30\n",
      "2000/2000 [==============================] - 5s 2ms/step - loss: 1.5610 - accuracy: 0.4675\n",
      "Epoch 13/30\n",
      "2000/2000 [==============================] - 4s 2ms/step - loss: 1.4641 - accuracy: 0.5040\n",
      "Epoch 14/30\n",
      "2000/2000 [==============================] - 5s 2ms/step - loss: 1.4242 - accuracy: 0.5090\n",
      "Epoch 15/30\n",
      "2000/2000 [==============================] - 4s 2ms/step - loss: 1.4324 - accuracy: 0.5130\n",
      "Epoch 16/30\n",
      "2000/2000 [==============================] - 4s 2ms/step - loss: 1.3618 - accuracy: 0.5210\n",
      "Epoch 17/30\n",
      "2000/2000 [==============================] - 4s 2ms/step - loss: 1.3149 - accuracy: 0.5540\n",
      "Epoch 18/30\n",
      "2000/2000 [==============================] - 5s 2ms/step - loss: 1.2919 - accuracy: 0.5555\n",
      "Epoch 19/30\n",
      "2000/2000 [==============================] - 4s 2ms/step - loss: 1.2895 - accuracy: 0.5590\n",
      "Epoch 20/30\n",
      "2000/2000 [==============================] - 4s 2ms/step - loss: 1.2242 - accuracy: 0.5785\n",
      "Epoch 21/30\n",
      "2000/2000 [==============================] - 4s 2ms/step - loss: 1.2280 - accuracy: 0.5745\n",
      "Epoch 22/30\n",
      "2000/2000 [==============================] - 4s 2ms/step - loss: 1.2033 - accuracy: 0.5720\n",
      "Epoch 23/30\n",
      "2000/2000 [==============================] - 4s 2ms/step - loss: 1.1327 - accuracy: 0.6055\n",
      "Epoch 24/30\n",
      "2000/2000 [==============================] - 4s 2ms/step - loss: 1.1848 - accuracy: 0.5940\n",
      "Epoch 25/30\n",
      "2000/2000 [==============================] - 5s 2ms/step - loss: 1.1075 - accuracy: 0.6095\n",
      "Epoch 26/30\n",
      "2000/2000 [==============================] - 4s 2ms/step - loss: 1.0669 - accuracy: 0.6450\n",
      "Epoch 27/30\n",
      "2000/2000 [==============================] - 4s 2ms/step - loss: 1.0904 - accuracy: 0.6200\n",
      "Epoch 28/30\n",
      "2000/2000 [==============================] - 4s 2ms/step - loss: 1.0572 - accuracy: 0.6220\n",
      "Epoch 29/30\n",
      "2000/2000 [==============================] - 4s 2ms/step - loss: 1.0428 - accuracy: 0.6475\n",
      "Epoch 30/30\n",
      "2000/2000 [==============================] - 4s 2ms/step - loss: 1.0097 - accuracy: 0.6605\n",
      "training  model takes 135.478 seconds\n"
     ]
    }
   ],
   "source": [
    "start_time = time.time()\n",
    "model2.compile(loss='categorical_crossentropy',optimizer = Adam(lr=0.001),metrics=['accuracy'])\n",
    "model_history = model2.fit(X_train,y_train,epochs = 30)\n",
    "print(\"training  model takes %s seconds\" % round((time.time() - start_time),3))"
   ]
  },
  {
   "cell_type": "code",
   "execution_count": 21,
   "metadata": {},
   "outputs": [
    {
     "data": {
      "text/plain": [
       "Text(0.5, 1.0, 'Accuracy Curves')"
      ]
     },
     "execution_count": 21,
     "metadata": {},
     "output_type": "execute_result"
    },
    {
     "data": {
      "image/png": "[encoded data removed]",
      "text/plain": [
       "<Figure size 864x576 with 1 Axes>"
      ]
     },
     "metadata": {
      "needs_background": "light"
     },
     "output_type": "display_data"
    }
   ],
   "source": [
    "fig, ax = plt.subplots(figsize=[12,8])\n",
    "ax.plot(model_history.history['accuracy'],'r',linewidth=1.0, label = 'Training Accuracy')\n",
    "ax.legend()\n",
    "plt.xlabel('Epochs ',fontsize=16)\n",
    "plt.ylabel('Accuracy',fontsize=16)\n",
    "plt.title('Accuracy Curves',fontsize=16)"
   ]
  },
  {
   "cell_type": "code",
   "execution_count": 49,
   "metadata": {},
   "outputs": [
    {
     "name": "stdout",
     "output_type": "stream",
     "text": [
      "500/500 [==============================] - 0s 610us/step\n",
      "Loss = 1.3495083694458008\n",
      "Test Accuracy = 0.5540000200271606\n"
     ]
    }
   ],
   "source": [
    "preds = model2.evaluate(X_test, y_test)\n",
    "print (\"Loss = \" + str(preds[0]))\n",
    "print (\"Test Accuracy = \" + str(preds[1]))"
   ]
  },
  {
   "cell_type": "code",
   "execution_count": 45,
   "metadata": {},
   "outputs": [],
   "source": [
    "#y = []\n",
    "#for i in model2.predict(X_test):\n",
    "#    y.append(np.argmax(i) + 1)\n",
    "#y"
   ]
  },
  {
   "cell_type": "markdown",
   "metadata": {},
   "source": [
    "### 5. Model 3\n",
    "\n",
    "__Procedure__\n",
    "\n",
    "BatchNorm -> Densely-connected NN -> ReLu -> Dropout -> BatchNorm -> Densely-connected NN -> ReLu -> Dropout -> Densely-connected NN -> ReLu -> Dropout -> Densely-connected NN -> ReLu -> Densely-connected NN -> Softmax -> Output"
   ]
  },
  {
   "cell_type": "code",
   "execution_count": 160,
   "metadata": {},
   "outputs": [],
   "source": [
    "input_shape = [6006] \n",
    "input_layer = Input(input_shape)\n",
    "x = BatchNormalization(momentum = 0.88)(input_layer) \n",
    "x = Dense(22*20,activation='relu',kernel_initializer=initializers.glorot_normal(seed=4))(x)\n",
    "x = Dropout(0.25)(x)\n",
    "x = BatchNormalization()(x) \n",
    "x = Dense(22*10,activation='relu',kernel_initializer=initializers.glorot_normal(seed=4))(x)\n",
    "x = Dropout(0.25)(x)\n",
    "x = Dense(22*6,activation='relu',kernel_initializer=initializers.glorot_normal(seed=4))(x)\n",
    "x = Dropout(0.25)(x)\n",
    "x = Dense(22*2,activation='relu',kernel_initializer=initializers.glorot_normal(seed=4))(x)\n",
    "output_layer = Dense(22,activation='softmax',kernel_initializer=initializers.glorot_normal(seed=4))(x) \n",
    "model3 = Model(input_layer,output_layer)"
   ]
  },
  {
   "cell_type": "code",
   "execution_count": 161,
   "metadata": {},
   "outputs": [
    {
     "name": "stdout",
     "output_type": "stream",
     "text": [
      "Train on 2000 samples, validate on 500 samples\n",
      "Epoch 1/30\n",
      "2000/2000 [==============================] - 13s 6ms/step - loss: 3.0063 - accuracy: 0.0960 - val_loss: 2.6684 - val_accuracy: 0.1860\n",
      "Epoch 2/30\n",
      "2000/2000 [==============================] - 8s 4ms/step - loss: 2.5629 - accuracy: 0.2005 - val_loss: 2.2812 - val_accuracy: 0.2700\n",
      "Epoch 3/30\n",
      "2000/2000 [==============================] - 10s 5ms/step - loss: 2.2624 - accuracy: 0.2880 - val_loss: 2.0822 - val_accuracy: 0.2940\n",
      "Epoch 4/30\n",
      "2000/2000 [==============================] - 10s 5ms/step - loss: 2.0903 - accuracy: 0.3235 - val_loss: 1.9359 - val_accuracy: 0.3360\n",
      "Epoch 5/30\n",
      "2000/2000 [==============================] - 10s 5ms/step - loss: 1.9284 - accuracy: 0.3630 - val_loss: 1.7711 - val_accuracy: 0.3940\n",
      "Epoch 6/30\n",
      "2000/2000 [==============================] - 10s 5ms/step - loss: 1.8358 - accuracy: 0.3775 - val_loss: 1.7649 - val_accuracy: 0.4120\n",
      "Epoch 7/30\n",
      "2000/2000 [==============================] - 9s 5ms/step - loss: 1.7567 - accuracy: 0.4075 - val_loss: 1.6597 - val_accuracy: 0.4160\n",
      "Epoch 8/30\n",
      "2000/2000 [==============================] - 9s 5ms/step - loss: 1.6368 - accuracy: 0.4445 - val_loss: 1.6183 - val_accuracy: 0.4700\n",
      "Epoch 9/30\n",
      "2000/2000 [==============================] - 9s 5ms/step - loss: 1.5831 - accuracy: 0.4465 - val_loss: 1.5647 - val_accuracy: 0.4900\n",
      "Epoch 10/30\n",
      "2000/2000 [==============================] - 9s 5ms/step - loss: 1.4927 - accuracy: 0.4910 - val_loss: 1.4964 - val_accuracy: 0.5040\n",
      "Epoch 11/30\n",
      "2000/2000 [==============================] - 10s 5ms/step - loss: 1.4368 - accuracy: 0.5140 - val_loss: 1.5577 - val_accuracy: 0.4680\n",
      "Epoch 12/30\n",
      "2000/2000 [==============================] - 9s 5ms/step - loss: 1.4588 - accuracy: 0.5085 - val_loss: 1.5042 - val_accuracy: 0.5000\n",
      "Epoch 13/30\n",
      "2000/2000 [==============================] - 9s 5ms/step - loss: 1.3852 - accuracy: 0.5225 - val_loss: 1.4730 - val_accuracy: 0.4920\n",
      "Epoch 14/30\n",
      "2000/2000 [==============================] - 9s 4ms/step - loss: 1.3371 - accuracy: 0.5405 - val_loss: 1.5199 - val_accuracy: 0.5000\n",
      "Epoch 15/30\n",
      "2000/2000 [==============================] - 9s 5ms/step - loss: 1.2802 - accuracy: 0.5580 - val_loss: 1.4168 - val_accuracy: 0.5320\n",
      "Epoch 16/30\n",
      "2000/2000 [==============================] - 9s 4ms/step - loss: 1.2350 - accuracy: 0.5735 - val_loss: 1.4525 - val_accuracy: 0.5000\n",
      "Epoch 17/30\n",
      "2000/2000 [==============================] - 9s 4ms/step - loss: 1.1896 - accuracy: 0.5895 - val_loss: 1.4970 - val_accuracy: 0.4860\n",
      "Epoch 18/30\n",
      "2000/2000 [==============================] - 9s 4ms/step - loss: 1.1436 - accuracy: 0.6070 - val_loss: 1.4595 - val_accuracy: 0.4920\n",
      "Epoch 19/30\n",
      "2000/2000 [==============================] - 9s 4ms/step - loss: 1.1300 - accuracy: 0.6000 - val_loss: 1.4493 - val_accuracy: 0.5300\n",
      "Epoch 20/30\n",
      "2000/2000 [==============================] - 9s 4ms/step - loss: 1.1102 - accuracy: 0.6080 - val_loss: 1.4505 - val_accuracy: 0.5220\n",
      "Epoch 21/30\n",
      "2000/2000 [==============================] - 9s 4ms/step - loss: 1.0998 - accuracy: 0.6210 - val_loss: 1.4717 - val_accuracy: 0.5160\n",
      "Epoch 22/30\n",
      "2000/2000 [==============================] - 9s 5ms/step - loss: 1.0607 - accuracy: 0.6240 - val_loss: 1.4366 - val_accuracy: 0.5100\n",
      "Epoch 23/30\n",
      "2000/2000 [==============================] - 9s 4ms/step - loss: 1.0590 - accuracy: 0.6355 - val_loss: 1.4281 - val_accuracy: 0.5360\n",
      "Epoch 24/30\n",
      "2000/2000 [==============================] - 9s 4ms/step - loss: 0.9874 - accuracy: 0.6535 - val_loss: 1.4676 - val_accuracy: 0.5200\n",
      "Epoch 25/30\n",
      "2000/2000 [==============================] - 8s 4ms/step - loss: 0.9969 - accuracy: 0.6480 - val_loss: 1.5382 - val_accuracy: 0.5160\n",
      "Epoch 26/30\n",
      "2000/2000 [==============================] - 9s 4ms/step - loss: 0.9886 - accuracy: 0.6455 - val_loss: 1.4715 - val_accuracy: 0.5320\n",
      "Epoch 27/30\n",
      "2000/2000 [==============================] - 9s 4ms/step - loss: 0.8970 - accuracy: 0.6845 - val_loss: 1.5118 - val_accuracy: 0.5260\n",
      "Epoch 28/30\n",
      "2000/2000 [==============================] - 9s 5ms/step - loss: 0.9517 - accuracy: 0.6660 - val_loss: 1.4513 - val_accuracy: 0.5420\n",
      "Epoch 29/30\n",
      "2000/2000 [==============================] - 9s 4ms/step - loss: 0.9131 - accuracy: 0.6755 - val_loss: 1.4515 - val_accuracy: 0.5460\n",
      "Epoch 30/30\n",
      "2000/2000 [==============================] - 8s 4ms/step - loss: 0.8832 - accuracy: 0.6840 - val_loss: 1.4904 - val_accuracy: 0.5340\n",
      "training  model takes 280.71 seconds\n"
     ]
    }
   ],
   "source": [
    "start_time = time.time()\n",
    "model3.compile(loss='categorical_crossentropy',optimizer = Adam(lr=0.001),metrics=['accuracy'])\n",
    "model_history = model3.fit(X_train,y_train,epochs = 30, validation_data=[X_test,y_test])\n",
    "print(\"training  model takes %s seconds\" % round((time.time() - start_time),3))"
   ]
  },
  {
   "cell_type": "code",
   "execution_count": 48,
   "metadata": {},
   "outputs": [
    {
     "data": {
      "text/plain": [
       "Text(0.5, 1.0, 'Accuracy Curves')"
      ]
     },
     "execution_count": 48,
     "metadata": {},
     "output_type": "execute_result"
    },
    {
     "data": {
      "image/png": "[encoded data removed]",
      "text/plain": [
       "<Figure size 864x576 with 1 Axes>"
      ]
     },
     "metadata": {
      "needs_background": "light"
     },
     "output_type": "display_data"
    }
   ],
   "source": [
    "fig, ax = plt.subplots(figsize=[12,8])\n",
    "ax.plot(model_history.history['accuracy'],'r',linewidth=1.0, label = 'Training Accuracy')\n",
    "ax.legend()\n",
    "plt.xlabel('Epochs ',fontsize=16)\n",
    "plt.ylabel('Accuracy',fontsize=16)\n",
    "plt.title('Accuracy Curves',fontsize=16)"
   ]
  },
  {
   "cell_type": "code",
   "execution_count": 163,
   "metadata": {},
   "outputs": [
    {
     "name": "stdout",
     "output_type": "stream",
     "text": [
      "500/500 [==============================] - 0s 710us/step\n",
      "Loss = 1.4904339685440064\n",
      "Test Accuracy = 0.5339999794960022\n"
     ]
    }
   ],
   "source": [
    "preds = model3.evaluate(X_test, y_test)\n",
    "print (\"Loss = \" + str(preds[0]))\n",
    "print (\"Test Accuracy = \" + str(preds[1]))"
   ]
  },
  {
   "cell_type": "code",
   "execution_count": null,
   "metadata": {},
   "outputs": [],
   "source": []
  }
 ],
 "metadata": {
  "kernelspec": {
   "display_name": "Python 3",
   "language": "python",
   "name": "python3"
  },
  "language_info": {
   "codemirror_mode": {
    "name": "ipython",
    "version": 3
   },
   "file_extension": ".py",
   "mimetype": "text/x-python",
   "name": "python",
   "nbconvert_exporter": "python",
   "pygments_lexer": "ipython3",
   "version": "3.7.6"
  }
 },
 "nbformat": 4,
 "nbformat_minor": 4
}
